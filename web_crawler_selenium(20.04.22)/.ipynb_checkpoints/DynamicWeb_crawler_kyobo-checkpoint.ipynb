{
 "cells": [
  {
   "cell_type": "code",
   "execution_count": null,
   "metadata": {},
   "outputs": [],
   "source": [
    "from selenium import webdriver\n",
    "from selenium.webdriver.common.keys import Keys\n",
    "from bs4 import BeautifulSoup\n",
    "import os\n",
    "import time"
   ]
  },
  {
   "cell_type": "code",
   "execution_count": null,
   "metadata": {},
   "outputs": [],
   "source": [
    "path = os.getcwd()+\"\\chromedriver.exe\"\n",
    "driver = webdriver.Chrome(path)"
   ]
  },
  {
   "cell_type": "code",
   "execution_count": null,
   "metadata": {},
   "outputs": [],
   "source": [
    "try:\n",
    "    driver.get(\"http://www.kyobobook.co.kr/index.laf\")\n",
    "    time.sleep(1)\n",
    "    \n",
    "    #검색할 검색어\n",
    "    searchIndex = \"파이썬\"\n",
    "    \n",
    "    #검색창을 가르키게 됨\n",
    "    element = driver.find_element_by_class_name(\"main_input\")\n",
    "    #검색창에 검색어를 입력해줌\n",
    "    element.send_keys(searchIndex)\n",
    "    #검색을 찾아서 클릭\n",
    "    driver.find_element_by_class_name(\"btn_search\").click()\n",
    "    \n",
    "    #실행완료된 창을 html으로 받아옴\n",
    "    html = driver.page_source\n",
    "    bs = BeautifulSoup(html, \"html.parser\")\n",
    "    \n",
    "    #총 페이지를 가져옴\n",
    "    pages = int(bs.find(\"span\", id=\"totalpage\").text)\n",
    "    \n",
    "    title = []\n",
    "    \n",
    "    #각 페이지마다 실행\n",
    "    for i in range(pages):\n",
    "        \n",
    "        time.sleep(1)\n",
    "        \n",
    "        html = driver.page_source\n",
    "        bs = BeautifulSoup(html, \"html.parser\")\n",
    "    \n",
    "        #신간 부분 - 각 책 데이터를 하나의 컨텐츠로 받아옴\n",
    "        contents = bs.find(\"div\", class_=\"list_search_result\").find_all(\"td\", class_ = \"detail\")\n",
    "\n",
    "        title.append(\"page\"+str(i+1))    \n",
    "        \n",
    "        for c in contents:\n",
    "            #각 컨텐츠에서 div태그의 title클래스 데이터를 가져와서, 그 내부의 strong태그의 text만을 반환\n",
    "            title.append(c.find(\"div\", class_=\"title\").find(\"strong\").text)\n",
    "        \n",
    "        #데이터를 다 받아왔으면, 그 다음 페이지로 넘어가는 것을 클릭. class이름이 겹칠경우, xpath를 사용.\n",
    "        driver.find_element_by_xpath('//*[@id=\"contents_section\"]/div[9]/div[1]/a[3]').click()\n",
    "    \n",
    "finally:\n",
    "    for t in title:\n",
    "        if t.find(\"page\") != -1 :\n",
    "            print()\n",
    "            print(t)\n",
    "        else:\n",
    "            print(t)\n",
    "    \n",
    "    time.sleep(3)\n",
    "    driver.quit()"
   ]
  }
 ],
 "metadata": {
  "kernelspec": {
   "display_name": "Python 3",
   "language": "python",
   "name": "python3"
  },
  "language_info": {
   "codemirror_mode": {
    "name": "ipython",
    "version": 3
   },
   "file_extension": ".py",
   "mimetype": "text/x-python",
   "name": "python",
   "nbconvert_exporter": "python",
   "pygments_lexer": "ipython3",
   "version": "3.7.7"
  }
 },
 "nbformat": 4,
 "nbformat_minor": 4
}
