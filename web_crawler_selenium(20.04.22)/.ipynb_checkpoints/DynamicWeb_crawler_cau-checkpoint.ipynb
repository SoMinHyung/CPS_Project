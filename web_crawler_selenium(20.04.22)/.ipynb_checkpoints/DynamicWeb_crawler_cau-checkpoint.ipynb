{
 "cells": [
  {
   "cell_type": "code",
   "execution_count": null,
   "metadata": {},
   "outputs": [],
   "source": [
    "from selenium import webdriver\n",
    "from bs4 import BeautifulSoup\n",
    "import os\n",
    "import time\n",
    "\n",
    "\"\"\"\n",
    "자바스크립트 등 반응형 웹의 경우에는 html을 그냥 읽어 올 수 가 없다.\n",
    "\n",
    "따라서, selenium을 이용해서 읽어온다.\n",
    "\n",
    "\"\"\"\n"
   ]
  },
  {
   "cell_type": "code",
   "execution_count": null,
   "metadata": {
    "scrolled": false
   },
   "outputs": [],
   "source": [
    "path  = os.getcwd() + \"\\chromedriver.exe\"\n",
    "driver = webdriver.Chrome(path)"
   ]
  },
  {
   "cell_type": "code",
   "execution_count": null,
   "metadata": {
    "scrolled": false
   },
   "outputs": [],
   "source": [
    "try:\n",
    "    driver.get(\"https://www.cau.ac.kr/cms/FR_CON/index.do?MENU_ID=100&CONTENTS_NO=2&P_TAB_NO=2#page1\")\n",
    "    #페이지 로딩되는 동안의 여유를 위해 잠깐 스탑\n",
    "    time.sleep(1)\n",
    "    #페이지가 로딩이 다 될때까지 대기 (최대 10초)\n",
    "    #driver.implicitly_wait(10)\n",
    "    \n",
    "    html = driver.page_source\n",
    "    bs = BeautifulSoup(html, \"html.parser\")\n",
    "    \n",
    "    #총 페이지가 몇 페이지인지 받아오기\n",
    "    pages = bs.find(\"div\", class_=\"pagination\").find_all(\"a\")[-1][\"href\"].split('page')[1] #'#page21'\n",
    "    pages = int(pages)\n",
    "    \n",
    "    title = []\n",
    "    for i in range(3):\n",
    "        #각 페이지들은 하나씩 모두 로드\n",
    "        driver.get(\"https://www.cau.ac.kr/cms/FR_CON/index.do?MENU_ID=100&CONTENTS_NO=2&P_TAB_NO=2#page\" + str(i+1))\n",
    "        time.sleep(3)\n",
    "        \n",
    "        html = driver.page_source\n",
    "        bs = BeautifulSoup(html, \"html.parser\")\n",
    "        \n",
    "        title.append(\"page\"+str(i+1))\n",
    "        \n",
    "        #div태그의 모든 txtL클래스를 읽어오기. (제목의 리스트) -> 리스트형으로 반환\n",
    "        cont = bs.find_all(\"div\", class_=\"txtL\")\n",
    "        \n",
    "        #각 요소에서 a태그의 텍스트를 가져오기 (실제 제목 값)\n",
    "        #만약 a태그가 여러개면 [3]과 같이 몇 번째 a태그를 가져올 지 지정해줘야함.\n",
    "        for c in cont:\n",
    "            title.append(c.find('a').text)\n",
    "            \n",
    "    \n",
    "finally:\n",
    "    for t in title:\n",
    "        if t.find(\"page\") != -1:\n",
    "            print()\n",
    "            print(t)\n",
    "        else:\n",
    "            print(t)\n",
    "        \n",
    "    #chromedriver를 종료. 안 꺼주면 컴퓨터가 느려지는 원인이 됨\n",
    "    driver.quit()"
   ]
  },
  {
   "cell_type": "code",
   "execution_count": null,
   "metadata": {},
   "outputs": [],
   "source": []
  },
  {
   "cell_type": "code",
   "execution_count": null,
   "metadata": {},
   "outputs": [],
   "source": []
  },
  {
   "cell_type": "code",
   "execution_count": null,
   "metadata": {},
   "outputs": [],
   "source": []
  },
  {
   "cell_type": "code",
   "execution_count": null,
   "metadata": {},
   "outputs": [],
   "source": []
  }
 ],
 "metadata": {
  "kernelspec": {
   "display_name": "Python 3",
   "language": "python",
   "name": "python3"
  },
  "language_info": {
   "codemirror_mode": {
    "name": "ipython",
    "version": 3
   },
   "file_extension": ".py",
   "mimetype": "text/x-python",
   "name": "python",
   "nbconvert_exporter": "python",
   "pygments_lexer": "ipython3",
   "version": "3.7.7"
  }
 },
 "nbformat": 4,
 "nbformat_minor": 4
}
