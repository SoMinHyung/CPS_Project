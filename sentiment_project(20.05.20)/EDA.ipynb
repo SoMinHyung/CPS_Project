{
 "cells": [
  {
   "cell_type": "code",
   "execution_count": null,
   "metadata": {},
   "outputs": [],
   "source": [
    "\"\"\"\n",
    "imdb데이터의 EDA입니다\n",
    "\"\"\""
   ]
  },
  {
   "cell_type": "code",
   "execution_count": 14,
   "metadata": {},
   "outputs": [
    {
     "data": {
      "text/html": [
       "<div>\n",
       "<style scoped>\n",
       "    .dataframe tbody tr th:only-of-type {\n",
       "        vertical-align: middle;\n",
       "    }\n",
       "\n",
       "    .dataframe tbody tr th {\n",
       "        vertical-align: top;\n",
       "    }\n",
       "\n",
       "    .dataframe thead th {\n",
       "        text-align: right;\n",
       "    }\n",
       "</style>\n",
       "<table border=\"1\" class=\"dataframe\">\n",
       "  <thead>\n",
       "    <tr style=\"text-align: right;\">\n",
       "      <th></th>\n",
       "      <th>review</th>\n",
       "      <th>sentiment</th>\n",
       "    </tr>\n",
       "  </thead>\n",
       "  <tbody>\n",
       "    <tr>\n",
       "      <td>0</td>\n",
       "      <td>One of the other reviewers has mentioned that ...</td>\n",
       "      <td>positive</td>\n",
       "    </tr>\n",
       "    <tr>\n",
       "      <td>1</td>\n",
       "      <td>A wonderful little production. &lt;br /&gt;&lt;br /&gt;The...</td>\n",
       "      <td>positive</td>\n",
       "    </tr>\n",
       "    <tr>\n",
       "      <td>2</td>\n",
       "      <td>I thought this was a wonderful way to spend ti...</td>\n",
       "      <td>positive</td>\n",
       "    </tr>\n",
       "    <tr>\n",
       "      <td>3</td>\n",
       "      <td>Basically there's a family where a little boy ...</td>\n",
       "      <td>negative</td>\n",
       "    </tr>\n",
       "    <tr>\n",
       "      <td>4</td>\n",
       "      <td>Petter Mattei's \"Love in the Time of Money\" is...</td>\n",
       "      <td>positive</td>\n",
       "    </tr>\n",
       "  </tbody>\n",
       "</table>\n",
       "</div>"
      ],
      "text/plain": [
       "                                              review sentiment\n",
       "0  One of the other reviewers has mentioned that ...  positive\n",
       "1  A wonderful little production. <br /><br />The...  positive\n",
       "2  I thought this was a wonderful way to spend ti...  positive\n",
       "3  Basically there's a family where a little boy ...  negative\n",
       "4  Petter Mattei's \"Love in the Time of Money\" is...  positive"
      ]
     },
     "execution_count": 14,
     "metadata": {},
     "output_type": "execute_result"
    }
   ],
   "source": [
    "import pandas as pd\n",
    "\n",
    "data = pd.read_csv('review_db.csv')\n",
    "data.head()"
   ]
  },
  {
   "cell_type": "code",
   "execution_count": 15,
   "metadata": {},
   "outputs": [
    {
     "data": {
      "text/html": [
       "<div>\n",
       "<style scoped>\n",
       "    .dataframe tbody tr th:only-of-type {\n",
       "        vertical-align: middle;\n",
       "    }\n",
       "\n",
       "    .dataframe tbody tr th {\n",
       "        vertical-align: top;\n",
       "    }\n",
       "\n",
       "    .dataframe thead th {\n",
       "        text-align: right;\n",
       "    }\n",
       "</style>\n",
       "<table border=\"1\" class=\"dataframe\">\n",
       "  <thead>\n",
       "    <tr style=\"text-align: right;\">\n",
       "      <th></th>\n",
       "      <th>review</th>\n",
       "      <th>sentiment</th>\n",
       "    </tr>\n",
       "  </thead>\n",
       "  <tbody>\n",
       "    <tr>\n",
       "      <td>0</td>\n",
       "      <td>One of the other reviewers has mentioned that ...</td>\n",
       "      <td>1</td>\n",
       "    </tr>\n",
       "    <tr>\n",
       "      <td>1</td>\n",
       "      <td>A wonderful little production. &lt;br /&gt;&lt;br /&gt;The...</td>\n",
       "      <td>1</td>\n",
       "    </tr>\n",
       "    <tr>\n",
       "      <td>2</td>\n",
       "      <td>I thought this was a wonderful way to spend ti...</td>\n",
       "      <td>1</td>\n",
       "    </tr>\n",
       "    <tr>\n",
       "      <td>3</td>\n",
       "      <td>Basically there's a family where a little boy ...</td>\n",
       "      <td>0</td>\n",
       "    </tr>\n",
       "    <tr>\n",
       "      <td>4</td>\n",
       "      <td>Petter Mattei's \"Love in the Time of Money\" is...</td>\n",
       "      <td>1</td>\n",
       "    </tr>\n",
       "  </tbody>\n",
       "</table>\n",
       "</div>"
      ],
      "text/plain": [
       "                                              review  sentiment\n",
       "0  One of the other reviewers has mentioned that ...          1\n",
       "1  A wonderful little production. <br /><br />The...          1\n",
       "2  I thought this was a wonderful way to spend ti...          1\n",
       "3  Basically there's a family where a little boy ...          0\n",
       "4  Petter Mattei's \"Love in the Time of Money\" is...          1"
      ]
     },
     "execution_count": 15,
     "metadata": {},
     "output_type": "execute_result"
    }
   ],
   "source": [
    "from sklearn import preprocessing\n",
    "label_encoder = preprocessing.LabelEncoder()\n",
    "#one hot encoding\n",
    "data['sentiment'] = label_encoder.fit_transform(data['sentiment'])\n",
    "data.head()"
   ]
  },
  {
   "cell_type": "code",
   "execution_count": 16,
   "metadata": {},
   "outputs": [],
   "source": [
    "import string\n",
    "\n",
    "def clean_text(text):\n",
    "    '''Make text lowercase, remove text in square brackets,remove links,remove punctuation\n",
    "    and remove words containing numbers.'''\n",
    "    text = str(text).lower()\n",
    "    text = re.sub('\\[.*?\\]', '', text)\n",
    "    text = re.sub('https?://\\S+|www\\.\\S+', '', text)\n",
    "    text = re.sub('<.*?>+', '', text)\n",
    "    text = re.sub('[%s]' % re.escape(string.punctuation), '', text)\n",
    "    text = re.sub('\\n', '', text)\n",
    "    text = re.sub('\\w*\\d\\w*', '', text)\n",
    "    return text"
   ]
  },
  {
   "cell_type": "code",
   "execution_count": 17,
   "metadata": {},
   "outputs": [
    {
     "data": {
      "text/html": [
       "<div>\n",
       "<style scoped>\n",
       "    .dataframe tbody tr th:only-of-type {\n",
       "        vertical-align: middle;\n",
       "    }\n",
       "\n",
       "    .dataframe tbody tr th {\n",
       "        vertical-align: top;\n",
       "    }\n",
       "\n",
       "    .dataframe thead th {\n",
       "        text-align: right;\n",
       "    }\n",
       "</style>\n",
       "<table border=\"1\" class=\"dataframe\">\n",
       "  <thead>\n",
       "    <tr style=\"text-align: right;\">\n",
       "      <th></th>\n",
       "      <th>review</th>\n",
       "      <th>sentiment</th>\n",
       "    </tr>\n",
       "  </thead>\n",
       "  <tbody>\n",
       "    <tr>\n",
       "      <td>0</td>\n",
       "      <td>one of the other reviewers has mentioned that ...</td>\n",
       "      <td>1</td>\n",
       "    </tr>\n",
       "    <tr>\n",
       "      <td>1</td>\n",
       "      <td>a wonderful little production   the filming te...</td>\n",
       "      <td>1</td>\n",
       "    </tr>\n",
       "    <tr>\n",
       "      <td>2</td>\n",
       "      <td>i thought this was a wonderful way to spend ti...</td>\n",
       "      <td>1</td>\n",
       "    </tr>\n",
       "    <tr>\n",
       "      <td>3</td>\n",
       "      <td>basically theres a family where a little boy j...</td>\n",
       "      <td>0</td>\n",
       "    </tr>\n",
       "    <tr>\n",
       "      <td>4</td>\n",
       "      <td>petter matteis love in the time of money is a ...</td>\n",
       "      <td>1</td>\n",
       "    </tr>\n",
       "  </tbody>\n",
       "</table>\n",
       "</div>"
      ],
      "text/plain": [
       "                                              review  sentiment\n",
       "0  one of the other reviewers has mentioned that ...          1\n",
       "1  a wonderful little production   the filming te...          1\n",
       "2  i thought this was a wonderful way to spend ti...          1\n",
       "3  basically theres a family where a little boy j...          0\n",
       "4  petter matteis love in the time of money is a ...          1"
      ]
     },
     "execution_count": 17,
     "metadata": {},
     "output_type": "execute_result"
    }
   ],
   "source": [
    "import re\n",
    "\n",
    "data['review'] = data['review'].str.replace('<br />',' ')\n",
    "data['review'] = data['review'].apply(lambda x:clean_text(x))\n",
    "data.head()"
   ]
  },
  {
   "cell_type": "code",
   "execution_count": 18,
   "metadata": {},
   "outputs": [
    {
     "data": {
      "text/html": [
       "<style  type=\"text/css\" >\n",
       "    #T_2aeb5f18_aef6_11ea_99f0_b4b676e4d41drow0_col1 {\n",
       "            background-color:  #08306b;\n",
       "            color:  #f1f1f1;\n",
       "        }    #T_2aeb5f18_aef6_11ea_99f0_b4b676e4d41drow1_col1 {\n",
       "            background-color:  #92c4de;\n",
       "            color:  #000000;\n",
       "        }    #T_2aeb5f18_aef6_11ea_99f0_b4b676e4d41drow2_col1 {\n",
       "            background-color:  #92c4de;\n",
       "            color:  #000000;\n",
       "        }    #T_2aeb5f18_aef6_11ea_99f0_b4b676e4d41drow3_col1 {\n",
       "            background-color:  #a6cee4;\n",
       "            color:  #000000;\n",
       "        }    #T_2aeb5f18_aef6_11ea_99f0_b4b676e4d41drow4_col1 {\n",
       "            background-color:  #b3d3e8;\n",
       "            color:  #000000;\n",
       "        }    #T_2aeb5f18_aef6_11ea_99f0_b4b676e4d41drow5_col1 {\n",
       "            background-color:  #cde0f1;\n",
       "            color:  #000000;\n",
       "        }    #T_2aeb5f18_aef6_11ea_99f0_b4b676e4d41drow6_col1 {\n",
       "            background-color:  #d6e5f4;\n",
       "            color:  #000000;\n",
       "        }    #T_2aeb5f18_aef6_11ea_99f0_b4b676e4d41drow7_col1 {\n",
       "            background-color:  #dfecf7;\n",
       "            color:  #000000;\n",
       "        }    #T_2aeb5f18_aef6_11ea_99f0_b4b676e4d41drow8_col1 {\n",
       "            background-color:  #e1edf8;\n",
       "            color:  #000000;\n",
       "        }    #T_2aeb5f18_aef6_11ea_99f0_b4b676e4d41drow9_col1 {\n",
       "            background-color:  #e2edf8;\n",
       "            color:  #000000;\n",
       "        }    #T_2aeb5f18_aef6_11ea_99f0_b4b676e4d41drow10_col1 {\n",
       "            background-color:  #e6f0f9;\n",
       "            color:  #000000;\n",
       "        }    #T_2aeb5f18_aef6_11ea_99f0_b4b676e4d41drow11_col1 {\n",
       "            background-color:  #f5f9fe;\n",
       "            color:  #000000;\n",
       "        }    #T_2aeb5f18_aef6_11ea_99f0_b4b676e4d41drow12_col1 {\n",
       "            background-color:  #f6faff;\n",
       "            color:  #000000;\n",
       "        }    #T_2aeb5f18_aef6_11ea_99f0_b4b676e4d41drow13_col1 {\n",
       "            background-color:  #f7fbff;\n",
       "            color:  #000000;\n",
       "        }    #T_2aeb5f18_aef6_11ea_99f0_b4b676e4d41drow14_col1 {\n",
       "            background-color:  #f7fbff;\n",
       "            color:  #000000;\n",
       "        }</style><table id=\"T_2aeb5f18_aef6_11ea_99f0_b4b676e4d41d\" ><thead>    <tr>        <th class=\"blank level0\" ></th>        <th class=\"col_heading level0 col0\" >Common_words</th>        <th class=\"col_heading level0 col1\" >count</th>    </tr></thead><tbody>\n",
       "                <tr>\n",
       "                        <th id=\"T_2aeb5f18_aef6_11ea_99f0_b4b676e4d41dlevel0_row0\" class=\"row_heading level0 row0\" >0</th>\n",
       "                        <td id=\"T_2aeb5f18_aef6_11ea_99f0_b4b676e4d41drow0_col0\" class=\"data row0 col0\" >the</td>\n",
       "                        <td id=\"T_2aeb5f18_aef6_11ea_99f0_b4b676e4d41drow0_col1\" class=\"data row0 col1\" >663856</td>\n",
       "            </tr>\n",
       "            <tr>\n",
       "                        <th id=\"T_2aeb5f18_aef6_11ea_99f0_b4b676e4d41dlevel0_row1\" class=\"row_heading level0 row1\" >1</th>\n",
       "                        <td id=\"T_2aeb5f18_aef6_11ea_99f0_b4b676e4d41drow1_col0\" class=\"data row1 col0\" >and</td>\n",
       "                        <td id=\"T_2aeb5f18_aef6_11ea_99f0_b4b676e4d41drow1_col1\" class=\"data row1 col1\" >320701</td>\n",
       "            </tr>\n",
       "            <tr>\n",
       "                        <th id=\"T_2aeb5f18_aef6_11ea_99f0_b4b676e4d41dlevel0_row2\" class=\"row_heading level0 row2\" >2</th>\n",
       "                        <td id=\"T_2aeb5f18_aef6_11ea_99f0_b4b676e4d41drow2_col0\" class=\"data row2 col0\" >a</td>\n",
       "                        <td id=\"T_2aeb5f18_aef6_11ea_99f0_b4b676e4d41drow2_col1\" class=\"data row2 col1\" >320554</td>\n",
       "            </tr>\n",
       "            <tr>\n",
       "                        <th id=\"T_2aeb5f18_aef6_11ea_99f0_b4b676e4d41dlevel0_row3\" class=\"row_heading level0 row3\" >3</th>\n",
       "                        <td id=\"T_2aeb5f18_aef6_11ea_99f0_b4b676e4d41drow3_col0\" class=\"data row3 col0\" >of</td>\n",
       "                        <td id=\"T_2aeb5f18_aef6_11ea_99f0_b4b676e4d41drow3_col1\" class=\"data row3 col1\" >288463</td>\n",
       "            </tr>\n",
       "            <tr>\n",
       "                        <th id=\"T_2aeb5f18_aef6_11ea_99f0_b4b676e4d41dlevel0_row4\" class=\"row_heading level0 row4\" >4</th>\n",
       "                        <td id=\"T_2aeb5f18_aef6_11ea_99f0_b4b676e4d41drow4_col0\" class=\"data row4 col0\" >to</td>\n",
       "                        <td id=\"T_2aeb5f18_aef6_11ea_99f0_b4b676e4d41drow4_col1\" class=\"data row4 col1\" >266912</td>\n",
       "            </tr>\n",
       "            <tr>\n",
       "                        <th id=\"T_2aeb5f18_aef6_11ea_99f0_b4b676e4d41dlevel0_row5\" class=\"row_heading level0 row5\" >5</th>\n",
       "                        <td id=\"T_2aeb5f18_aef6_11ea_99f0_b4b676e4d41drow5_col0\" class=\"data row5 col0\" >is</td>\n",
       "                        <td id=\"T_2aeb5f18_aef6_11ea_99f0_b4b676e4d41drow5_col1\" class=\"data row5 col1\" >210506</td>\n",
       "            </tr>\n",
       "            <tr>\n",
       "                        <th id=\"T_2aeb5f18_aef6_11ea_99f0_b4b676e4d41dlevel0_row6\" class=\"row_heading level0 row6\" >6</th>\n",
       "                        <td id=\"T_2aeb5f18_aef6_11ea_99f0_b4b676e4d41drow6_col0\" class=\"data row6 col0\" >in</td>\n",
       "                        <td id=\"T_2aeb5f18_aef6_11ea_99f0_b4b676e4d41drow6_col1\" class=\"data row6 col1\" >185047</td>\n",
       "            </tr>\n",
       "            <tr>\n",
       "                        <th id=\"T_2aeb5f18_aef6_11ea_99f0_b4b676e4d41dlevel0_row7\" class=\"row_heading level0 row7\" >7</th>\n",
       "                        <td id=\"T_2aeb5f18_aef6_11ea_99f0_b4b676e4d41drow7_col0\" class=\"data row7 col0\" >it</td>\n",
       "                        <td id=\"T_2aeb5f18_aef6_11ea_99f0_b4b676e4d41drow7_col1\" class=\"data row7 col1\" >154901</td>\n",
       "            </tr>\n",
       "            <tr>\n",
       "                        <th id=\"T_2aeb5f18_aef6_11ea_99f0_b4b676e4d41dlevel0_row8\" class=\"row_heading level0 row8\" >8</th>\n",
       "                        <td id=\"T_2aeb5f18_aef6_11ea_99f0_b4b676e4d41drow8_col0\" class=\"data row8 col0\" >i</td>\n",
       "                        <td id=\"T_2aeb5f18_aef6_11ea_99f0_b4b676e4d41drow8_col1\" class=\"data row8 col1\" >152098</td>\n",
       "            </tr>\n",
       "            <tr>\n",
       "                        <th id=\"T_2aeb5f18_aef6_11ea_99f0_b4b676e4d41dlevel0_row9\" class=\"row_heading level0 row9\" >9</th>\n",
       "                        <td id=\"T_2aeb5f18_aef6_11ea_99f0_b4b676e4d41drow9_col0\" class=\"data row9 col0\" >this</td>\n",
       "                        <td id=\"T_2aeb5f18_aef6_11ea_99f0_b4b676e4d41drow9_col1\" class=\"data row9 col1\" >149895</td>\n",
       "            </tr>\n",
       "            <tr>\n",
       "                        <th id=\"T_2aeb5f18_aef6_11ea_99f0_b4b676e4d41dlevel0_row10\" class=\"row_heading level0 row10\" >10</th>\n",
       "                        <td id=\"T_2aeb5f18_aef6_11ea_99f0_b4b676e4d41drow10_col0\" class=\"data row10 col0\" >that</td>\n",
       "                        <td id=\"T_2aeb5f18_aef6_11ea_99f0_b4b676e4d41drow10_col1\" class=\"data row10 col1\" >136526</td>\n",
       "            </tr>\n",
       "            <tr>\n",
       "                        <th id=\"T_2aeb5f18_aef6_11ea_99f0_b4b676e4d41dlevel0_row11\" class=\"row_heading level0 row11\" >11</th>\n",
       "                        <td id=\"T_2aeb5f18_aef6_11ea_99f0_b4b676e4d41drow11_col0\" class=\"data row11 col0\" >was</td>\n",
       "                        <td id=\"T_2aeb5f18_aef6_11ea_99f0_b4b676e4d41drow11_col1\" class=\"data row11 col1\" >95404</td>\n",
       "            </tr>\n",
       "            <tr>\n",
       "                        <th id=\"T_2aeb5f18_aef6_11ea_99f0_b4b676e4d41dlevel0_row12\" class=\"row_heading level0 row12\" >12</th>\n",
       "                        <td id=\"T_2aeb5f18_aef6_11ea_99f0_b4b676e4d41drow12_col0\" class=\"data row12 col0\" >as</td>\n",
       "                        <td id=\"T_2aeb5f18_aef6_11ea_99f0_b4b676e4d41drow12_col1\" class=\"data row12 col1\" >91237</td>\n",
       "            </tr>\n",
       "            <tr>\n",
       "                        <th id=\"T_2aeb5f18_aef6_11ea_99f0_b4b676e4d41dlevel0_row13\" class=\"row_heading level0 row13\" >13</th>\n",
       "                        <td id=\"T_2aeb5f18_aef6_11ea_99f0_b4b676e4d41drow13_col0\" class=\"data row13 col0\" >with</td>\n",
       "                        <td id=\"T_2aeb5f18_aef6_11ea_99f0_b4b676e4d41drow13_col1\" class=\"data row13 col1\" >86998</td>\n",
       "            </tr>\n",
       "            <tr>\n",
       "                        <th id=\"T_2aeb5f18_aef6_11ea_99f0_b4b676e4d41dlevel0_row14\" class=\"row_heading level0 row14\" >14</th>\n",
       "                        <td id=\"T_2aeb5f18_aef6_11ea_99f0_b4b676e4d41drow14_col0\" class=\"data row14 col0\" >for</td>\n",
       "                        <td id=\"T_2aeb5f18_aef6_11ea_99f0_b4b676e4d41drow14_col1\" class=\"data row14 col1\" >86829</td>\n",
       "            </tr>\n",
       "    </tbody></table>"
      ],
      "text/plain": [
       "<pandas.io.formats.style.Styler at 0x1f6b4b62ba8>"
      ]
     },
     "execution_count": 18,
     "metadata": {},
     "output_type": "execute_result"
    }
   ],
   "source": [
    "from collections import Counter\n",
    "\n",
    "data['temp_review'] = data['review'].apply(lambda x:str(x).split())\n",
    "top = Counter([item for sublist in data['temp_review'] for item in sublist])\n",
    "temp = pd.DataFrame(top.most_common(15))\n",
    "temp.columns = ['Common_words','count']\n",
    "temp.style.background_gradient(cmap='Blues')"
   ]
  },
  {
   "cell_type": "code",
   "execution_count": 19,
   "metadata": {},
   "outputs": [
    {
     "data": {
      "application/vnd.plotly.v1+json": {
       "config": {
        "plotlyServerURL": "https://plot.ly"
       },
       "data": [
        {
         "alignmentgroup": "True",
         "hovertemplate": "Common_words=%{y}<br>count=%{x}<extra></extra>",
         "legendgroup": "the",
         "marker": {
          "color": "#636efa"
         },
         "name": "the",
         "offsetgroup": "the",
         "orientation": "h",
         "showlegend": true,
         "textposition": "auto",
         "type": "bar",
         "x": [
          663856
         ],
         "xaxis": "x",
         "y": [
          "the"
         ],
         "yaxis": "y"
        },
        {
         "alignmentgroup": "True",
         "hovertemplate": "Common_words=%{y}<br>count=%{x}<extra></extra>",
         "legendgroup": "and",
         "marker": {
          "color": "#EF553B"
         },
         "name": "and",
         "offsetgroup": "and",
         "orientation": "h",
         "showlegend": true,
         "textposition": "auto",
         "type": "bar",
         "x": [
          320701
         ],
         "xaxis": "x",
         "y": [
          "and"
         ],
         "yaxis": "y"
        },
        {
         "alignmentgroup": "True",
         "hovertemplate": "Common_words=%{y}<br>count=%{x}<extra></extra>",
         "legendgroup": "a",
         "marker": {
          "color": "#00cc96"
         },
         "name": "a",
         "offsetgroup": "a",
         "orientation": "h",
         "showlegend": true,
         "textposition": "auto",
         "type": "bar",
         "x": [
          320554
         ],
         "xaxis": "x",
         "y": [
          "a"
         ],
         "yaxis": "y"
        },
        {
         "alignmentgroup": "True",
         "hovertemplate": "Common_words=%{y}<br>count=%{x}<extra></extra>",
         "legendgroup": "of",
         "marker": {
          "color": "#ab63fa"
         },
         "name": "of",
         "offsetgroup": "of",
         "orientation": "h",
         "showlegend": true,
         "textposition": "auto",
         "type": "bar",
         "x": [
          288463
         ],
         "xaxis": "x",
         "y": [
          "of"
         ],
         "yaxis": "y"
        },
        {
         "alignmentgroup": "True",
         "hovertemplate": "Common_words=%{y}<br>count=%{x}<extra></extra>",
         "legendgroup": "to",
         "marker": {
          "color": "#FFA15A"
         },
         "name": "to",
         "offsetgroup": "to",
         "orientation": "h",
         "showlegend": true,
         "textposition": "auto",
         "type": "bar",
         "x": [
          266912
         ],
         "xaxis": "x",
         "y": [
          "to"
         ],
         "yaxis": "y"
        },
        {
         "alignmentgroup": "True",
         "hovertemplate": "Common_words=%{y}<br>count=%{x}<extra></extra>",
         "legendgroup": "is",
         "marker": {
          "color": "#19d3f3"
         },
         "name": "is",
         "offsetgroup": "is",
         "orientation": "h",
         "showlegend": true,
         "textposition": "auto",
         "type": "bar",
         "x": [
          210506
         ],
         "xaxis": "x",
         "y": [
          "is"
         ],
         "yaxis": "y"
        },
        {
         "alignmentgroup": "True",
         "hovertemplate": "Common_words=%{y}<br>count=%{x}<extra></extra>",
         "legendgroup": "in",
         "marker": {
          "color": "#FF6692"
         },
         "name": "in",
         "offsetgroup": "in",
         "orientation": "h",
         "showlegend": true,
         "textposition": "auto",
         "type": "bar",
         "x": [
          185047
         ],
         "xaxis": "x",
         "y": [
          "in"
         ],
         "yaxis": "y"
        },
        {
         "alignmentgroup": "True",
         "hovertemplate": "Common_words=%{y}<br>count=%{x}<extra></extra>",
         "legendgroup": "it",
         "marker": {
          "color": "#B6E880"
         },
         "name": "it",
         "offsetgroup": "it",
         "orientation": "h",
         "showlegend": true,
         "textposition": "auto",
         "type": "bar",
         "x": [
          154901
         ],
         "xaxis": "x",
         "y": [
          "it"
         ],
         "yaxis": "y"
        },
        {
         "alignmentgroup": "True",
         "hovertemplate": "Common_words=%{y}<br>count=%{x}<extra></extra>",
         "legendgroup": "i",
         "marker": {
          "color": "#FF97FF"
         },
         "name": "i",
         "offsetgroup": "i",
         "orientation": "h",
         "showlegend": true,
         "textposition": "auto",
         "type": "bar",
         "x": [
          152098
         ],
         "xaxis": "x",
         "y": [
          "i"
         ],
         "yaxis": "y"
        },
        {
         "alignmentgroup": "True",
         "hovertemplate": "Common_words=%{y}<br>count=%{x}<extra></extra>",
         "legendgroup": "this",
         "marker": {
          "color": "#FECB52"
         },
         "name": "this",
         "offsetgroup": "this",
         "orientation": "h",
         "showlegend": true,
         "textposition": "auto",
         "type": "bar",
         "x": [
          149895
         ],
         "xaxis": "x",
         "y": [
          "this"
         ],
         "yaxis": "y"
        },
        {
         "alignmentgroup": "True",
         "hovertemplate": "Common_words=%{y}<br>count=%{x}<extra></extra>",
         "legendgroup": "that",
         "marker": {
          "color": "#636efa"
         },
         "name": "that",
         "offsetgroup": "that",
         "orientation": "h",
         "showlegend": true,
         "textposition": "auto",
         "type": "bar",
         "x": [
          136526
         ],
         "xaxis": "x",
         "y": [
          "that"
         ],
         "yaxis": "y"
        },
        {
         "alignmentgroup": "True",
         "hovertemplate": "Common_words=%{y}<br>count=%{x}<extra></extra>",
         "legendgroup": "was",
         "marker": {
          "color": "#EF553B"
         },
         "name": "was",
         "offsetgroup": "was",
         "orientation": "h",
         "showlegend": true,
         "textposition": "auto",
         "type": "bar",
         "x": [
          95404
         ],
         "xaxis": "x",
         "y": [
          "was"
         ],
         "yaxis": "y"
        },
        {
         "alignmentgroup": "True",
         "hovertemplate": "Common_words=%{y}<br>count=%{x}<extra></extra>",
         "legendgroup": "as",
         "marker": {
          "color": "#00cc96"
         },
         "name": "as",
         "offsetgroup": "as",
         "orientation": "h",
         "showlegend": true,
         "textposition": "auto",
         "type": "bar",
         "x": [
          91237
         ],
         "xaxis": "x",
         "y": [
          "as"
         ],
         "yaxis": "y"
        },
        {
         "alignmentgroup": "True",
         "hovertemplate": "Common_words=%{y}<br>count=%{x}<extra></extra>",
         "legendgroup": "with",
         "marker": {
          "color": "#ab63fa"
         },
         "name": "with",
         "offsetgroup": "with",
         "orientation": "h",
         "showlegend": true,
         "textposition": "auto",
         "type": "bar",
         "x": [
          86998
         ],
         "xaxis": "x",
         "y": [
          "with"
         ],
         "yaxis": "y"
        },
        {
         "alignmentgroup": "True",
         "hovertemplate": "Common_words=%{y}<br>count=%{x}<extra></extra>",
         "legendgroup": "for",
         "marker": {
          "color": "#FFA15A"
         },
         "name": "for",
         "offsetgroup": "for",
         "orientation": "h",
         "showlegend": true,
         "textposition": "auto",
         "type": "bar",
         "x": [
          86829
         ],
         "xaxis": "x",
         "y": [
          "for"
         ],
         "yaxis": "y"
        }
       ],
       "layout": {
        "barmode": "relative",
        "height": 700,
        "legend": {
         "title": {
          "text": "Common_words"
         },
         "tracegroupgap": 0
        },
        "template": {
         "data": {
          "bar": [
           {
            "error_x": {
             "color": "#2a3f5f"
            },
            "error_y": {
             "color": "#2a3f5f"
            },
            "marker": {
             "line": {
              "color": "#E5ECF6",
              "width": 0.5
             }
            },
            "type": "bar"
           }
          ],
          "barpolar": [
           {
            "marker": {
             "line": {
              "color": "#E5ECF6",
              "width": 0.5
             }
            },
            "type": "barpolar"
           }
          ],
          "carpet": [
           {
            "aaxis": {
             "endlinecolor": "#2a3f5f",
             "gridcolor": "white",
             "linecolor": "white",
             "minorgridcolor": "white",
             "startlinecolor": "#2a3f5f"
            },
            "baxis": {
             "endlinecolor": "#2a3f5f",
             "gridcolor": "white",
             "linecolor": "white",
             "minorgridcolor": "white",
             "startlinecolor": "#2a3f5f"
            },
            "type": "carpet"
           }
          ],
          "choropleth": [
           {
            "colorbar": {
             "outlinewidth": 0,
             "ticks": ""
            },
            "type": "choropleth"
           }
          ],
          "contour": [
           {
            "colorbar": {
             "outlinewidth": 0,
             "ticks": ""
            },
            "colorscale": [
             [
              0,
              "#0d0887"
             ],
             [
              0.1111111111111111,
              "#46039f"
             ],
             [
              0.2222222222222222,
              "#7201a8"
             ],
             [
              0.3333333333333333,
              "#9c179e"
             ],
             [
              0.4444444444444444,
              "#bd3786"
             ],
             [
              0.5555555555555556,
              "#d8576b"
             ],
             [
              0.6666666666666666,
              "#ed7953"
             ],
             [
              0.7777777777777778,
              "#fb9f3a"
             ],
             [
              0.8888888888888888,
              "#fdca26"
             ],
             [
              1,
              "#f0f921"
             ]
            ],
            "type": "contour"
           }
          ],
          "contourcarpet": [
           {
            "colorbar": {
             "outlinewidth": 0,
             "ticks": ""
            },
            "type": "contourcarpet"
           }
          ],
          "heatmap": [
           {
            "colorbar": {
             "outlinewidth": 0,
             "ticks": ""
            },
            "colorscale": [
             [
              0,
              "#0d0887"
             ],
             [
              0.1111111111111111,
              "#46039f"
             ],
             [
              0.2222222222222222,
              "#7201a8"
             ],
             [
              0.3333333333333333,
              "#9c179e"
             ],
             [
              0.4444444444444444,
              "#bd3786"
             ],
             [
              0.5555555555555556,
              "#d8576b"
             ],
             [
              0.6666666666666666,
              "#ed7953"
             ],
             [
              0.7777777777777778,
              "#fb9f3a"
             ],
             [
              0.8888888888888888,
              "#fdca26"
             ],
             [
              1,
              "#f0f921"
             ]
            ],
            "type": "heatmap"
           }
          ],
          "heatmapgl": [
           {
            "colorbar": {
             "outlinewidth": 0,
             "ticks": ""
            },
            "colorscale": [
             [
              0,
              "#0d0887"
             ],
             [
              0.1111111111111111,
              "#46039f"
             ],
             [
              0.2222222222222222,
              "#7201a8"
             ],
             [
              0.3333333333333333,
              "#9c179e"
             ],
             [
              0.4444444444444444,
              "#bd3786"
             ],
             [
              0.5555555555555556,
              "#d8576b"
             ],
             [
              0.6666666666666666,
              "#ed7953"
             ],
             [
              0.7777777777777778,
              "#fb9f3a"
             ],
             [
              0.8888888888888888,
              "#fdca26"
             ],
             [
              1,
              "#f0f921"
             ]
            ],
            "type": "heatmapgl"
           }
          ],
          "histogram": [
           {
            "marker": {
             "colorbar": {
              "outlinewidth": 0,
              "ticks": ""
             }
            },
            "type": "histogram"
           }
          ],
          "histogram2d": [
           {
            "colorbar": {
             "outlinewidth": 0,
             "ticks": ""
            },
            "colorscale": [
             [
              0,
              "#0d0887"
             ],
             [
              0.1111111111111111,
              "#46039f"
             ],
             [
              0.2222222222222222,
              "#7201a8"
             ],
             [
              0.3333333333333333,
              "#9c179e"
             ],
             [
              0.4444444444444444,
              "#bd3786"
             ],
             [
              0.5555555555555556,
              "#d8576b"
             ],
             [
              0.6666666666666666,
              "#ed7953"
             ],
             [
              0.7777777777777778,
              "#fb9f3a"
             ],
             [
              0.8888888888888888,
              "#fdca26"
             ],
             [
              1,
              "#f0f921"
             ]
            ],
            "type": "histogram2d"
           }
          ],
          "histogram2dcontour": [
           {
            "colorbar": {
             "outlinewidth": 0,
             "ticks": ""
            },
            "colorscale": [
             [
              0,
              "#0d0887"
             ],
             [
              0.1111111111111111,
              "#46039f"
             ],
             [
              0.2222222222222222,
              "#7201a8"
             ],
             [
              0.3333333333333333,
              "#9c179e"
             ],
             [
              0.4444444444444444,
              "#bd3786"
             ],
             [
              0.5555555555555556,
              "#d8576b"
             ],
             [
              0.6666666666666666,
              "#ed7953"
             ],
             [
              0.7777777777777778,
              "#fb9f3a"
             ],
             [
              0.8888888888888888,
              "#fdca26"
             ],
             [
              1,
              "#f0f921"
             ]
            ],
            "type": "histogram2dcontour"
           }
          ],
          "mesh3d": [
           {
            "colorbar": {
             "outlinewidth": 0,
             "ticks": ""
            },
            "type": "mesh3d"
           }
          ],
          "parcoords": [
           {
            "line": {
             "colorbar": {
              "outlinewidth": 0,
              "ticks": ""
             }
            },
            "type": "parcoords"
           }
          ],
          "pie": [
           {
            "automargin": true,
            "type": "pie"
           }
          ],
          "scatter": [
           {
            "marker": {
             "colorbar": {
              "outlinewidth": 0,
              "ticks": ""
             }
            },
            "type": "scatter"
           }
          ],
          "scatter3d": [
           {
            "line": {
             "colorbar": {
              "outlinewidth": 0,
              "ticks": ""
             }
            },
            "marker": {
             "colorbar": {
              "outlinewidth": 0,
              "ticks": ""
             }
            },
            "type": "scatter3d"
           }
          ],
          "scattercarpet": [
           {
            "marker": {
             "colorbar": {
              "outlinewidth": 0,
              "ticks": ""
             }
            },
            "type": "scattercarpet"
           }
          ],
          "scattergeo": [
           {
            "marker": {
             "colorbar": {
              "outlinewidth": 0,
              "ticks": ""
             }
            },
            "type": "scattergeo"
           }
          ],
          "scattergl": [
           {
            "marker": {
             "colorbar": {
              "outlinewidth": 0,
              "ticks": ""
             }
            },
            "type": "scattergl"
           }
          ],
          "scattermapbox": [
           {
            "marker": {
             "colorbar": {
              "outlinewidth": 0,
              "ticks": ""
             }
            },
            "type": "scattermapbox"
           }
          ],
          "scatterpolar": [
           {
            "marker": {
             "colorbar": {
              "outlinewidth": 0,
              "ticks": ""
             }
            },
            "type": "scatterpolar"
           }
          ],
          "scatterpolargl": [
           {
            "marker": {
             "colorbar": {
              "outlinewidth": 0,
              "ticks": ""
             }
            },
            "type": "scatterpolargl"
           }
          ],
          "scatterternary": [
           {
            "marker": {
             "colorbar": {
              "outlinewidth": 0,
              "ticks": ""
             }
            },
            "type": "scatterternary"
           }
          ],
          "surface": [
           {
            "colorbar": {
             "outlinewidth": 0,
             "ticks": ""
            },
            "colorscale": [
             [
              0,
              "#0d0887"
             ],
             [
              0.1111111111111111,
              "#46039f"
             ],
             [
              0.2222222222222222,
              "#7201a8"
             ],
             [
              0.3333333333333333,
              "#9c179e"
             ],
             [
              0.4444444444444444,
              "#bd3786"
             ],
             [
              0.5555555555555556,
              "#d8576b"
             ],
             [
              0.6666666666666666,
              "#ed7953"
             ],
             [
              0.7777777777777778,
              "#fb9f3a"
             ],
             [
              0.8888888888888888,
              "#fdca26"
             ],
             [
              1,
              "#f0f921"
             ]
            ],
            "type": "surface"
           }
          ],
          "table": [
           {
            "cells": {
             "fill": {
              "color": "#EBF0F8"
             },
             "line": {
              "color": "white"
             }
            },
            "header": {
             "fill": {
              "color": "#C8D4E3"
             },
             "line": {
              "color": "white"
             }
            },
            "type": "table"
           }
          ]
         },
         "layout": {
          "annotationdefaults": {
           "arrowcolor": "#2a3f5f",
           "arrowhead": 0,
           "arrowwidth": 1
          },
          "coloraxis": {
           "colorbar": {
            "outlinewidth": 0,
            "ticks": ""
           }
          },
          "colorscale": {
           "diverging": [
            [
             0,
             "#8e0152"
            ],
            [
             0.1,
             "#c51b7d"
            ],
            [
             0.2,
             "#de77ae"
            ],
            [
             0.3,
             "#f1b6da"
            ],
            [
             0.4,
             "#fde0ef"
            ],
            [
             0.5,
             "#f7f7f7"
            ],
            [
             0.6,
             "#e6f5d0"
            ],
            [
             0.7,
             "#b8e186"
            ],
            [
             0.8,
             "#7fbc41"
            ],
            [
             0.9,
             "#4d9221"
            ],
            [
             1,
             "#276419"
            ]
           ],
           "sequential": [
            [
             0,
             "#0d0887"
            ],
            [
             0.1111111111111111,
             "#46039f"
            ],
            [
             0.2222222222222222,
             "#7201a8"
            ],
            [
             0.3333333333333333,
             "#9c179e"
            ],
            [
             0.4444444444444444,
             "#bd3786"
            ],
            [
             0.5555555555555556,
             "#d8576b"
            ],
            [
             0.6666666666666666,
             "#ed7953"
            ],
            [
             0.7777777777777778,
             "#fb9f3a"
            ],
            [
             0.8888888888888888,
             "#fdca26"
            ],
            [
             1,
             "#f0f921"
            ]
           ],
           "sequentialminus": [
            [
             0,
             "#0d0887"
            ],
            [
             0.1111111111111111,
             "#46039f"
            ],
            [
             0.2222222222222222,
             "#7201a8"
            ],
            [
             0.3333333333333333,
             "#9c179e"
            ],
            [
             0.4444444444444444,
             "#bd3786"
            ],
            [
             0.5555555555555556,
             "#d8576b"
            ],
            [
             0.6666666666666666,
             "#ed7953"
            ],
            [
             0.7777777777777778,
             "#fb9f3a"
            ],
            [
             0.8888888888888888,
             "#fdca26"
            ],
            [
             1,
             "#f0f921"
            ]
           ]
          },
          "colorway": [
           "#636efa",
           "#EF553B",
           "#00cc96",
           "#ab63fa",
           "#FFA15A",
           "#19d3f3",
           "#FF6692",
           "#B6E880",
           "#FF97FF",
           "#FECB52"
          ],
          "font": {
           "color": "#2a3f5f"
          },
          "geo": {
           "bgcolor": "white",
           "lakecolor": "white",
           "landcolor": "#E5ECF6",
           "showlakes": true,
           "showland": true,
           "subunitcolor": "white"
          },
          "hoverlabel": {
           "align": "left"
          },
          "hovermode": "closest",
          "mapbox": {
           "style": "light"
          },
          "paper_bgcolor": "white",
          "plot_bgcolor": "#E5ECF6",
          "polar": {
           "angularaxis": {
            "gridcolor": "white",
            "linecolor": "white",
            "ticks": ""
           },
           "bgcolor": "#E5ECF6",
           "radialaxis": {
            "gridcolor": "white",
            "linecolor": "white",
            "ticks": ""
           }
          },
          "scene": {
           "xaxis": {
            "backgroundcolor": "#E5ECF6",
            "gridcolor": "white",
            "gridwidth": 2,
            "linecolor": "white",
            "showbackground": true,
            "ticks": "",
            "zerolinecolor": "white"
           },
           "yaxis": {
            "backgroundcolor": "#E5ECF6",
            "gridcolor": "white",
            "gridwidth": 2,
            "linecolor": "white",
            "showbackground": true,
            "ticks": "",
            "zerolinecolor": "white"
           },
           "zaxis": {
            "backgroundcolor": "#E5ECF6",
            "gridcolor": "white",
            "gridwidth": 2,
            "linecolor": "white",
            "showbackground": true,
            "ticks": "",
            "zerolinecolor": "white"
           }
          },
          "shapedefaults": {
           "line": {
            "color": "#2a3f5f"
           }
          },
          "ternary": {
           "aaxis": {
            "gridcolor": "white",
            "linecolor": "white",
            "ticks": ""
           },
           "baxis": {
            "gridcolor": "white",
            "linecolor": "white",
            "ticks": ""
           },
           "bgcolor": "#E5ECF6",
           "caxis": {
            "gridcolor": "white",
            "linecolor": "white",
            "ticks": ""
           }
          },
          "title": {
           "x": 0.05
          },
          "xaxis": {
           "automargin": true,
           "gridcolor": "white",
           "linecolor": "white",
           "ticks": "",
           "title": {
            "standoff": 15
           },
           "zerolinecolor": "white",
           "zerolinewidth": 2
          },
          "yaxis": {
           "automargin": true,
           "gridcolor": "white",
           "linecolor": "white",
           "ticks": "",
           "title": {
            "standoff": 15
           },
           "zerolinecolor": "white",
           "zerolinewidth": 2
          }
         }
        },
        "title": {
         "text": "Commmon Words in Selected Text"
        },
        "width": 700,
        "xaxis": {
         "anchor": "y",
         "domain": [
          0,
          1
         ],
         "title": {
          "text": "count"
         }
        },
        "yaxis": {
         "anchor": "x",
         "categoryarray": [
          "for",
          "with",
          "as",
          "was",
          "that",
          "this",
          "i",
          "it",
          "in",
          "is",
          "to",
          "of",
          "a",
          "and",
          "the"
         ],
         "categoryorder": "array",
         "domain": [
          0,
          1
         ],
         "title": {
          "text": "Common_words"
         }
        }
       }
      },
      "text/html": [
       "<div>\n",
       "        \n",
       "        \n",
       "            <div id=\"2a9f7ef0-bcdd-41d3-9a35-5e47b76c6705\" class=\"plotly-graph-div\" style=\"height:700px; width:700px;\"></div>\n",
       "            <script type=\"text/javascript\">\n",
       "                require([\"plotly\"], function(Plotly) {\n",
       "                    window.PLOTLYENV=window.PLOTLYENV || {};\n",
       "                    \n",
       "                if (document.getElementById(\"2a9f7ef0-bcdd-41d3-9a35-5e47b76c6705\")) {\n",
       "                    Plotly.newPlot(\n",
       "                        '2a9f7ef0-bcdd-41d3-9a35-5e47b76c6705',\n",
       "                        [{\"alignmentgroup\": \"True\", \"hovertemplate\": \"Common_words=%{y}<br>count=%{x}<extra></extra>\", \"legendgroup\": \"the\", \"marker\": {\"color\": \"#636efa\"}, \"name\": \"the\", \"offsetgroup\": \"the\", \"orientation\": \"h\", \"showlegend\": true, \"textposition\": \"auto\", \"type\": \"bar\", \"x\": [663856], \"xaxis\": \"x\", \"y\": [\"the\"], \"yaxis\": \"y\"}, {\"alignmentgroup\": \"True\", \"hovertemplate\": \"Common_words=%{y}<br>count=%{x}<extra></extra>\", \"legendgroup\": \"and\", \"marker\": {\"color\": \"#EF553B\"}, \"name\": \"and\", \"offsetgroup\": \"and\", \"orientation\": \"h\", \"showlegend\": true, \"textposition\": \"auto\", \"type\": \"bar\", \"x\": [320701], \"xaxis\": \"x\", \"y\": [\"and\"], \"yaxis\": \"y\"}, {\"alignmentgroup\": \"True\", \"hovertemplate\": \"Common_words=%{y}<br>count=%{x}<extra></extra>\", \"legendgroup\": \"a\", \"marker\": {\"color\": \"#00cc96\"}, \"name\": \"a\", \"offsetgroup\": \"a\", \"orientation\": \"h\", \"showlegend\": true, \"textposition\": \"auto\", \"type\": \"bar\", \"x\": [320554], \"xaxis\": \"x\", \"y\": [\"a\"], \"yaxis\": \"y\"}, {\"alignmentgroup\": \"True\", \"hovertemplate\": \"Common_words=%{y}<br>count=%{x}<extra></extra>\", \"legendgroup\": \"of\", \"marker\": {\"color\": \"#ab63fa\"}, \"name\": \"of\", \"offsetgroup\": \"of\", \"orientation\": \"h\", \"showlegend\": true, \"textposition\": \"auto\", \"type\": \"bar\", \"x\": [288463], \"xaxis\": \"x\", \"y\": [\"of\"], \"yaxis\": \"y\"}, {\"alignmentgroup\": \"True\", \"hovertemplate\": \"Common_words=%{y}<br>count=%{x}<extra></extra>\", \"legendgroup\": \"to\", \"marker\": {\"color\": \"#FFA15A\"}, \"name\": \"to\", \"offsetgroup\": \"to\", \"orientation\": \"h\", \"showlegend\": true, \"textposition\": \"auto\", \"type\": \"bar\", \"x\": [266912], \"xaxis\": \"x\", \"y\": [\"to\"], \"yaxis\": \"y\"}, {\"alignmentgroup\": \"True\", \"hovertemplate\": \"Common_words=%{y}<br>count=%{x}<extra></extra>\", \"legendgroup\": \"is\", \"marker\": {\"color\": \"#19d3f3\"}, \"name\": \"is\", \"offsetgroup\": \"is\", \"orientation\": \"h\", \"showlegend\": true, \"textposition\": \"auto\", \"type\": \"bar\", \"x\": [210506], \"xaxis\": \"x\", \"y\": [\"is\"], \"yaxis\": \"y\"}, {\"alignmentgroup\": \"True\", \"hovertemplate\": \"Common_words=%{y}<br>count=%{x}<extra></extra>\", \"legendgroup\": \"in\", \"marker\": {\"color\": \"#FF6692\"}, \"name\": \"in\", \"offsetgroup\": \"in\", \"orientation\": \"h\", \"showlegend\": true, \"textposition\": \"auto\", \"type\": \"bar\", \"x\": [185047], \"xaxis\": \"x\", \"y\": [\"in\"], \"yaxis\": \"y\"}, {\"alignmentgroup\": \"True\", \"hovertemplate\": \"Common_words=%{y}<br>count=%{x}<extra></extra>\", \"legendgroup\": \"it\", \"marker\": {\"color\": \"#B6E880\"}, \"name\": \"it\", \"offsetgroup\": \"it\", \"orientation\": \"h\", \"showlegend\": true, \"textposition\": \"auto\", \"type\": \"bar\", \"x\": [154901], \"xaxis\": \"x\", \"y\": [\"it\"], \"yaxis\": \"y\"}, {\"alignmentgroup\": \"True\", \"hovertemplate\": \"Common_words=%{y}<br>count=%{x}<extra></extra>\", \"legendgroup\": \"i\", \"marker\": {\"color\": \"#FF97FF\"}, \"name\": \"i\", \"offsetgroup\": \"i\", \"orientation\": \"h\", \"showlegend\": true, \"textposition\": \"auto\", \"type\": \"bar\", \"x\": [152098], \"xaxis\": \"x\", \"y\": [\"i\"], \"yaxis\": \"y\"}, {\"alignmentgroup\": \"True\", \"hovertemplate\": \"Common_words=%{y}<br>count=%{x}<extra></extra>\", \"legendgroup\": \"this\", \"marker\": {\"color\": \"#FECB52\"}, \"name\": \"this\", \"offsetgroup\": \"this\", \"orientation\": \"h\", \"showlegend\": true, \"textposition\": \"auto\", \"type\": \"bar\", \"x\": [149895], \"xaxis\": \"x\", \"y\": [\"this\"], \"yaxis\": \"y\"}, {\"alignmentgroup\": \"True\", \"hovertemplate\": \"Common_words=%{y}<br>count=%{x}<extra></extra>\", \"legendgroup\": \"that\", \"marker\": {\"color\": \"#636efa\"}, \"name\": \"that\", \"offsetgroup\": \"that\", \"orientation\": \"h\", \"showlegend\": true, \"textposition\": \"auto\", \"type\": \"bar\", \"x\": [136526], \"xaxis\": \"x\", \"y\": [\"that\"], \"yaxis\": \"y\"}, {\"alignmentgroup\": \"True\", \"hovertemplate\": \"Common_words=%{y}<br>count=%{x}<extra></extra>\", \"legendgroup\": \"was\", \"marker\": {\"color\": \"#EF553B\"}, \"name\": \"was\", \"offsetgroup\": \"was\", \"orientation\": \"h\", \"showlegend\": true, \"textposition\": \"auto\", \"type\": \"bar\", \"x\": [95404], \"xaxis\": \"x\", \"y\": [\"was\"], \"yaxis\": \"y\"}, {\"alignmentgroup\": \"True\", \"hovertemplate\": \"Common_words=%{y}<br>count=%{x}<extra></extra>\", \"legendgroup\": \"as\", \"marker\": {\"color\": \"#00cc96\"}, \"name\": \"as\", \"offsetgroup\": \"as\", \"orientation\": \"h\", \"showlegend\": true, \"textposition\": \"auto\", \"type\": \"bar\", \"x\": [91237], \"xaxis\": \"x\", \"y\": [\"as\"], \"yaxis\": \"y\"}, {\"alignmentgroup\": \"True\", \"hovertemplate\": \"Common_words=%{y}<br>count=%{x}<extra></extra>\", \"legendgroup\": \"with\", \"marker\": {\"color\": \"#ab63fa\"}, \"name\": \"with\", \"offsetgroup\": \"with\", \"orientation\": \"h\", \"showlegend\": true, \"textposition\": \"auto\", \"type\": \"bar\", \"x\": [86998], \"xaxis\": \"x\", \"y\": [\"with\"], \"yaxis\": \"y\"}, {\"alignmentgroup\": \"True\", \"hovertemplate\": \"Common_words=%{y}<br>count=%{x}<extra></extra>\", \"legendgroup\": \"for\", \"marker\": {\"color\": \"#FFA15A\"}, \"name\": \"for\", \"offsetgroup\": \"for\", \"orientation\": \"h\", \"showlegend\": true, \"textposition\": \"auto\", \"type\": \"bar\", \"x\": [86829], \"xaxis\": \"x\", \"y\": [\"for\"], \"yaxis\": \"y\"}],\n",
       "                        {\"barmode\": \"relative\", \"height\": 700, \"legend\": {\"title\": {\"text\": \"Common_words\"}, \"tracegroupgap\": 0}, \"template\": {\"data\": {\"bar\": [{\"error_x\": {\"color\": \"#2a3f5f\"}, \"error_y\": {\"color\": \"#2a3f5f\"}, \"marker\": {\"line\": {\"color\": \"#E5ECF6\", \"width\": 0.5}}, \"type\": \"bar\"}], \"barpolar\": [{\"marker\": {\"line\": {\"color\": \"#E5ECF6\", \"width\": 0.5}}, \"type\": \"barpolar\"}], \"carpet\": [{\"aaxis\": {\"endlinecolor\": \"#2a3f5f\", \"gridcolor\": \"white\", \"linecolor\": \"white\", \"minorgridcolor\": \"white\", \"startlinecolor\": \"#2a3f5f\"}, \"baxis\": {\"endlinecolor\": \"#2a3f5f\", \"gridcolor\": \"white\", \"linecolor\": \"white\", \"minorgridcolor\": \"white\", \"startlinecolor\": \"#2a3f5f\"}, \"type\": \"carpet\"}], \"choropleth\": [{\"colorbar\": {\"outlinewidth\": 0, \"ticks\": \"\"}, \"type\": \"choropleth\"}], \"contour\": [{\"colorbar\": {\"outlinewidth\": 0, \"ticks\": \"\"}, \"colorscale\": [[0.0, \"#0d0887\"], [0.1111111111111111, \"#46039f\"], [0.2222222222222222, \"#7201a8\"], [0.3333333333333333, \"#9c179e\"], [0.4444444444444444, \"#bd3786\"], [0.5555555555555556, \"#d8576b\"], [0.6666666666666666, \"#ed7953\"], [0.7777777777777778, \"#fb9f3a\"], [0.8888888888888888, \"#fdca26\"], [1.0, \"#f0f921\"]], \"type\": \"contour\"}], \"contourcarpet\": [{\"colorbar\": {\"outlinewidth\": 0, \"ticks\": \"\"}, \"type\": \"contourcarpet\"}], \"heatmap\": [{\"colorbar\": {\"outlinewidth\": 0, \"ticks\": \"\"}, \"colorscale\": [[0.0, \"#0d0887\"], [0.1111111111111111, \"#46039f\"], [0.2222222222222222, \"#7201a8\"], [0.3333333333333333, \"#9c179e\"], [0.4444444444444444, \"#bd3786\"], [0.5555555555555556, \"#d8576b\"], [0.6666666666666666, \"#ed7953\"], [0.7777777777777778, \"#fb9f3a\"], [0.8888888888888888, \"#fdca26\"], [1.0, \"#f0f921\"]], \"type\": \"heatmap\"}], \"heatmapgl\": [{\"colorbar\": {\"outlinewidth\": 0, \"ticks\": \"\"}, \"colorscale\": [[0.0, \"#0d0887\"], [0.1111111111111111, \"#46039f\"], [0.2222222222222222, \"#7201a8\"], [0.3333333333333333, \"#9c179e\"], [0.4444444444444444, \"#bd3786\"], [0.5555555555555556, \"#d8576b\"], [0.6666666666666666, \"#ed7953\"], [0.7777777777777778, \"#fb9f3a\"], [0.8888888888888888, \"#fdca26\"], [1.0, \"#f0f921\"]], \"type\": \"heatmapgl\"}], \"histogram\": [{\"marker\": {\"colorbar\": {\"outlinewidth\": 0, \"ticks\": \"\"}}, \"type\": \"histogram\"}], \"histogram2d\": [{\"colorbar\": {\"outlinewidth\": 0, \"ticks\": \"\"}, \"colorscale\": [[0.0, \"#0d0887\"], [0.1111111111111111, \"#46039f\"], [0.2222222222222222, \"#7201a8\"], [0.3333333333333333, \"#9c179e\"], [0.4444444444444444, \"#bd3786\"], [0.5555555555555556, \"#d8576b\"], [0.6666666666666666, \"#ed7953\"], [0.7777777777777778, \"#fb9f3a\"], [0.8888888888888888, \"#fdca26\"], [1.0, \"#f0f921\"]], \"type\": \"histogram2d\"}], \"histogram2dcontour\": [{\"colorbar\": {\"outlinewidth\": 0, \"ticks\": \"\"}, \"colorscale\": [[0.0, \"#0d0887\"], [0.1111111111111111, \"#46039f\"], [0.2222222222222222, \"#7201a8\"], [0.3333333333333333, \"#9c179e\"], [0.4444444444444444, \"#bd3786\"], [0.5555555555555556, \"#d8576b\"], [0.6666666666666666, \"#ed7953\"], [0.7777777777777778, \"#fb9f3a\"], [0.8888888888888888, \"#fdca26\"], [1.0, \"#f0f921\"]], \"type\": \"histogram2dcontour\"}], \"mesh3d\": [{\"colorbar\": {\"outlinewidth\": 0, \"ticks\": \"\"}, \"type\": \"mesh3d\"}], \"parcoords\": [{\"line\": {\"colorbar\": {\"outlinewidth\": 0, \"ticks\": \"\"}}, \"type\": \"parcoords\"}], \"pie\": [{\"automargin\": true, \"type\": \"pie\"}], \"scatter\": [{\"marker\": {\"colorbar\": {\"outlinewidth\": 0, \"ticks\": \"\"}}, \"type\": \"scatter\"}], \"scatter3d\": [{\"line\": {\"colorbar\": {\"outlinewidth\": 0, \"ticks\": \"\"}}, \"marker\": {\"colorbar\": {\"outlinewidth\": 0, \"ticks\": \"\"}}, \"type\": \"scatter3d\"}], \"scattercarpet\": [{\"marker\": {\"colorbar\": {\"outlinewidth\": 0, \"ticks\": \"\"}}, \"type\": \"scattercarpet\"}], \"scattergeo\": [{\"marker\": {\"colorbar\": {\"outlinewidth\": 0, \"ticks\": \"\"}}, \"type\": \"scattergeo\"}], \"scattergl\": [{\"marker\": {\"colorbar\": {\"outlinewidth\": 0, \"ticks\": \"\"}}, \"type\": \"scattergl\"}], \"scattermapbox\": [{\"marker\": {\"colorbar\": {\"outlinewidth\": 0, \"ticks\": \"\"}}, \"type\": \"scattermapbox\"}], \"scatterpolar\": [{\"marker\": {\"colorbar\": {\"outlinewidth\": 0, \"ticks\": \"\"}}, \"type\": \"scatterpolar\"}], \"scatterpolargl\": [{\"marker\": {\"colorbar\": {\"outlinewidth\": 0, \"ticks\": \"\"}}, \"type\": \"scatterpolargl\"}], \"scatterternary\": [{\"marker\": {\"colorbar\": {\"outlinewidth\": 0, \"ticks\": \"\"}}, \"type\": \"scatterternary\"}], \"surface\": [{\"colorbar\": {\"outlinewidth\": 0, \"ticks\": \"\"}, \"colorscale\": [[0.0, \"#0d0887\"], [0.1111111111111111, \"#46039f\"], [0.2222222222222222, \"#7201a8\"], [0.3333333333333333, \"#9c179e\"], [0.4444444444444444, \"#bd3786\"], [0.5555555555555556, \"#d8576b\"], [0.6666666666666666, \"#ed7953\"], [0.7777777777777778, \"#fb9f3a\"], [0.8888888888888888, \"#fdca26\"], [1.0, \"#f0f921\"]], \"type\": \"surface\"}], \"table\": [{\"cells\": {\"fill\": {\"color\": \"#EBF0F8\"}, \"line\": {\"color\": \"white\"}}, \"header\": {\"fill\": {\"color\": \"#C8D4E3\"}, \"line\": {\"color\": \"white\"}}, \"type\": \"table\"}]}, \"layout\": {\"annotationdefaults\": {\"arrowcolor\": \"#2a3f5f\", \"arrowhead\": 0, \"arrowwidth\": 1}, \"coloraxis\": {\"colorbar\": {\"outlinewidth\": 0, \"ticks\": \"\"}}, \"colorscale\": {\"diverging\": [[0, \"#8e0152\"], [0.1, \"#c51b7d\"], [0.2, \"#de77ae\"], [0.3, \"#f1b6da\"], [0.4, \"#fde0ef\"], [0.5, \"#f7f7f7\"], [0.6, \"#e6f5d0\"], [0.7, \"#b8e186\"], [0.8, \"#7fbc41\"], [0.9, \"#4d9221\"], [1, \"#276419\"]], \"sequential\": [[0.0, \"#0d0887\"], [0.1111111111111111, \"#46039f\"], [0.2222222222222222, \"#7201a8\"], [0.3333333333333333, \"#9c179e\"], [0.4444444444444444, \"#bd3786\"], [0.5555555555555556, \"#d8576b\"], [0.6666666666666666, \"#ed7953\"], [0.7777777777777778, \"#fb9f3a\"], [0.8888888888888888, \"#fdca26\"], [1.0, \"#f0f921\"]], \"sequentialminus\": [[0.0, \"#0d0887\"], [0.1111111111111111, \"#46039f\"], [0.2222222222222222, \"#7201a8\"], [0.3333333333333333, \"#9c179e\"], [0.4444444444444444, \"#bd3786\"], [0.5555555555555556, \"#d8576b\"], [0.6666666666666666, \"#ed7953\"], [0.7777777777777778, \"#fb9f3a\"], [0.8888888888888888, \"#fdca26\"], [1.0, \"#f0f921\"]]}, \"colorway\": [\"#636efa\", \"#EF553B\", \"#00cc96\", \"#ab63fa\", \"#FFA15A\", \"#19d3f3\", \"#FF6692\", \"#B6E880\", \"#FF97FF\", \"#FECB52\"], \"font\": {\"color\": \"#2a3f5f\"}, \"geo\": {\"bgcolor\": \"white\", \"lakecolor\": \"white\", \"landcolor\": \"#E5ECF6\", \"showlakes\": true, \"showland\": true, \"subunitcolor\": \"white\"}, \"hoverlabel\": {\"align\": \"left\"}, \"hovermode\": \"closest\", \"mapbox\": {\"style\": \"light\"}, \"paper_bgcolor\": \"white\", \"plot_bgcolor\": \"#E5ECF6\", \"polar\": {\"angularaxis\": {\"gridcolor\": \"white\", \"linecolor\": \"white\", \"ticks\": \"\"}, \"bgcolor\": \"#E5ECF6\", \"radialaxis\": {\"gridcolor\": \"white\", \"linecolor\": \"white\", \"ticks\": \"\"}}, \"scene\": {\"xaxis\": {\"backgroundcolor\": \"#E5ECF6\", \"gridcolor\": \"white\", \"gridwidth\": 2, \"linecolor\": \"white\", \"showbackground\": true, \"ticks\": \"\", \"zerolinecolor\": \"white\"}, \"yaxis\": {\"backgroundcolor\": \"#E5ECF6\", \"gridcolor\": \"white\", \"gridwidth\": 2, \"linecolor\": \"white\", \"showbackground\": true, \"ticks\": \"\", \"zerolinecolor\": \"white\"}, \"zaxis\": {\"backgroundcolor\": \"#E5ECF6\", \"gridcolor\": \"white\", \"gridwidth\": 2, \"linecolor\": \"white\", \"showbackground\": true, \"ticks\": \"\", \"zerolinecolor\": \"white\"}}, \"shapedefaults\": {\"line\": {\"color\": \"#2a3f5f\"}}, \"ternary\": {\"aaxis\": {\"gridcolor\": \"white\", \"linecolor\": \"white\", \"ticks\": \"\"}, \"baxis\": {\"gridcolor\": \"white\", \"linecolor\": \"white\", \"ticks\": \"\"}, \"bgcolor\": \"#E5ECF6\", \"caxis\": {\"gridcolor\": \"white\", \"linecolor\": \"white\", \"ticks\": \"\"}}, \"title\": {\"x\": 0.05}, \"xaxis\": {\"automargin\": true, \"gridcolor\": \"white\", \"linecolor\": \"white\", \"ticks\": \"\", \"title\": {\"standoff\": 15}, \"zerolinecolor\": \"white\", \"zerolinewidth\": 2}, \"yaxis\": {\"automargin\": true, \"gridcolor\": \"white\", \"linecolor\": \"white\", \"ticks\": \"\", \"title\": {\"standoff\": 15}, \"zerolinecolor\": \"white\", \"zerolinewidth\": 2}}}, \"title\": {\"text\": \"Commmon Words in Selected Text\"}, \"width\": 700, \"xaxis\": {\"anchor\": \"y\", \"domain\": [0.0, 1.0], \"title\": {\"text\": \"count\"}}, \"yaxis\": {\"anchor\": \"x\", \"categoryarray\": [\"for\", \"with\", \"as\", \"was\", \"that\", \"this\", \"i\", \"it\", \"in\", \"is\", \"to\", \"of\", \"a\", \"and\", \"the\"], \"categoryorder\": \"array\", \"domain\": [0.0, 1.0], \"title\": {\"text\": \"Common_words\"}}},\n",
       "                        {\"responsive\": true}\n",
       "                    ).then(function(){\n",
       "                            \n",
       "var gd = document.getElementById('2a9f7ef0-bcdd-41d3-9a35-5e47b76c6705');\n",
       "var x = new MutationObserver(function (mutations, observer) {{\n",
       "        var display = window.getComputedStyle(gd).display;\n",
       "        if (!display || display === 'none') {{\n",
       "            console.log([gd, 'removed!']);\n",
       "            Plotly.purge(gd);\n",
       "            observer.disconnect();\n",
       "        }}\n",
       "}});\n",
       "\n",
       "// Listen for the removal of the full notebook cells\n",
       "var notebookContainer = gd.closest('#notebook-container');\n",
       "if (notebookContainer) {{\n",
       "    x.observe(notebookContainer, {childList: true});\n",
       "}}\n",
       "\n",
       "// Listen for the clearing of the current output cell\n",
       "var outputEl = gd.closest('.output');\n",
       "if (outputEl) {{\n",
       "    x.observe(outputEl, {childList: true});\n",
       "}}\n",
       "\n",
       "                        })\n",
       "                };\n",
       "                });\n",
       "            </script>\n",
       "        </div>"
      ]
     },
     "metadata": {},
     "output_type": "display_data"
    }
   ],
   "source": [
    "import plotly.express as px\n",
    "\n",
    "fig = px.bar(temp, x=\"count\", y=\"Common_words\", title='Commmon Words in Selected Text', orientation='h', \n",
    "             width=700, height=700,color='Common_words')\n",
    "fig.show()"
   ]
  },
  {
   "cell_type": "code",
   "execution_count": 20,
   "metadata": {},
   "outputs": [],
   "source": [
    "import nltk\n",
    "from nltk.corpus import stopwords\n",
    "\n",
    "def remove_stopword(x):\n",
    "    return [y for y in x if y not in stopwords.words('english')]\n",
    "data['temp_review'] = data['temp_review'].apply(lambda x:remove_stopword(x))"
   ]
  },
  {
   "cell_type": "code",
   "execution_count": 21,
   "metadata": {},
   "outputs": [
    {
     "data": {
      "text/html": [
       "<style  type=\"text/css\" >\n",
       "    #T_d09667ac_aeff_11ea_878e_b4b676e4d41drow0_col1 {\n",
       "            background-color:  #3f007d;\n",
       "            color:  #f1f1f1;\n",
       "        }    #T_d09667ac_aeff_11ea_878e_b4b676e4d41drow1_col1 {\n",
       "            background-color:  #8a86bf;\n",
       "            color:  #000000;\n",
       "        }    #T_d09667ac_aeff_11ea_878e_b4b676e4d41drow2_col1 {\n",
       "            background-color:  #bdbedc;\n",
       "            color:  #000000;\n",
       "        }    #T_d09667ac_aeff_11ea_878e_b4b676e4d41drow3_col1 {\n",
       "            background-color:  #e2e2ef;\n",
       "            color:  #000000;\n",
       "        }    #T_d09667ac_aeff_11ea_878e_b4b676e4d41drow4_col1 {\n",
       "            background-color:  #eeecf5;\n",
       "            color:  #000000;\n",
       "        }    #T_d09667ac_aeff_11ea_878e_b4b676e4d41drow5_col1 {\n",
       "            background-color:  #f0eef5;\n",
       "            color:  #000000;\n",
       "        }    #T_d09667ac_aeff_11ea_878e_b4b676e4d41drow6_col1 {\n",
       "            background-color:  #f0eef5;\n",
       "            color:  #000000;\n",
       "        }    #T_d09667ac_aeff_11ea_878e_b4b676e4d41drow7_col1 {\n",
       "            background-color:  #f1f0f6;\n",
       "            color:  #000000;\n",
       "        }    #T_d09667ac_aeff_11ea_878e_b4b676e4d41drow8_col1 {\n",
       "            background-color:  #f2f0f7;\n",
       "            color:  #000000;\n",
       "        }    #T_d09667ac_aeff_11ea_878e_b4b676e4d41drow9_col1 {\n",
       "            background-color:  #f2f0f7;\n",
       "            color:  #000000;\n",
       "        }    #T_d09667ac_aeff_11ea_878e_b4b676e4d41drow10_col1 {\n",
       "            background-color:  #f8f7fb;\n",
       "            color:  #000000;\n",
       "        }    #T_d09667ac_aeff_11ea_878e_b4b676e4d41drow11_col1 {\n",
       "            background-color:  #f8f7fb;\n",
       "            color:  #000000;\n",
       "        }    #T_d09667ac_aeff_11ea_878e_b4b676e4d41drow12_col1 {\n",
       "            background-color:  #faf9fc;\n",
       "            color:  #000000;\n",
       "        }    #T_d09667ac_aeff_11ea_878e_b4b676e4d41drow13_col1 {\n",
       "            background-color:  #faf9fc;\n",
       "            color:  #000000;\n",
       "        }    #T_d09667ac_aeff_11ea_878e_b4b676e4d41drow14_col1 {\n",
       "            background-color:  #faf9fc;\n",
       "            color:  #000000;\n",
       "        }    #T_d09667ac_aeff_11ea_878e_b4b676e4d41drow15_col1 {\n",
       "            background-color:  #faf9fc;\n",
       "            color:  #000000;\n",
       "        }    #T_d09667ac_aeff_11ea_878e_b4b676e4d41drow16_col1 {\n",
       "            background-color:  #fbfafc;\n",
       "            color:  #000000;\n",
       "        }    #T_d09667ac_aeff_11ea_878e_b4b676e4d41drow17_col1 {\n",
       "            background-color:  #fcfbfd;\n",
       "            color:  #000000;\n",
       "        }    #T_d09667ac_aeff_11ea_878e_b4b676e4d41drow18_col1 {\n",
       "            background-color:  #fcfbfd;\n",
       "            color:  #000000;\n",
       "        }</style><table id=\"T_d09667ac_aeff_11ea_878e_b4b676e4d41d\" ><thead>    <tr>        <th class=\"blank level0\" ></th>        <th class=\"col_heading level0 col0\" >Common_words</th>        <th class=\"col_heading level0 col1\" >count</th>    </tr></thead><tbody>\n",
       "                <tr>\n",
       "                        <th id=\"T_d09667ac_aeff_11ea_878e_b4b676e4d41dlevel0_row0\" class=\"row_heading level0 row0\" >1</th>\n",
       "                        <td id=\"T_d09667ac_aeff_11ea_878e_b4b676e4d41drow0_col0\" class=\"data row0 col0\" >film</td>\n",
       "                        <td id=\"T_d09667ac_aeff_11ea_878e_b4b676e4d41drow0_col1\" class=\"data row0 col1\" >76026</td>\n",
       "            </tr>\n",
       "            <tr>\n",
       "                        <th id=\"T_d09667ac_aeff_11ea_878e_b4b676e4d41dlevel0_row1\" class=\"row_heading level0 row1\" >2</th>\n",
       "                        <td id=\"T_d09667ac_aeff_11ea_878e_b4b676e4d41drow1_col0\" class=\"data row1 col0\" >one</td>\n",
       "                        <td id=\"T_d09667ac_aeff_11ea_878e_b4b676e4d41drow1_col1\" class=\"data row1 col1\" >51472</td>\n",
       "            </tr>\n",
       "            <tr>\n",
       "                        <th id=\"T_d09667ac_aeff_11ea_878e_b4b676e4d41dlevel0_row2\" class=\"row_heading level0 row2\" >3</th>\n",
       "                        <td id=\"T_d09667ac_aeff_11ea_878e_b4b676e4d41drow2_col0\" class=\"data row2 col0\" >like</td>\n",
       "                        <td id=\"T_d09667ac_aeff_11ea_878e_b4b676e4d41drow2_col1\" class=\"data row2 col1\" >39061</td>\n",
       "            </tr>\n",
       "            <tr>\n",
       "                        <th id=\"T_d09667ac_aeff_11ea_878e_b4b676e4d41dlevel0_row3\" class=\"row_heading level0 row3\" >4</th>\n",
       "                        <td id=\"T_d09667ac_aeff_11ea_878e_b4b676e4d41drow3_col0\" class=\"data row3 col0\" >good</td>\n",
       "                        <td id=\"T_d09667ac_aeff_11ea_878e_b4b676e4d41drow3_col1\" class=\"data row3 col1\" >28912</td>\n",
       "            </tr>\n",
       "            <tr>\n",
       "                        <th id=\"T_d09667ac_aeff_11ea_878e_b4b676e4d41dlevel0_row4\" class=\"row_heading level0 row4\" >5</th>\n",
       "                        <td id=\"T_d09667ac_aeff_11ea_878e_b4b676e4d41drow4_col0\" class=\"data row4 col0\" >even</td>\n",
       "                        <td id=\"T_d09667ac_aeff_11ea_878e_b4b676e4d41drow4_col1\" class=\"data row4 col1\" >24580</td>\n",
       "            </tr>\n",
       "            <tr>\n",
       "                        <th id=\"T_d09667ac_aeff_11ea_878e_b4b676e4d41dlevel0_row5\" class=\"row_heading level0 row5\" >6</th>\n",
       "                        <td id=\"T_d09667ac_aeff_11ea_878e_b4b676e4d41drow5_col0\" class=\"data row5 col0\" >would</td>\n",
       "                        <td id=\"T_d09667ac_aeff_11ea_878e_b4b676e4d41drow5_col1\" class=\"data row5 col1\" >24034</td>\n",
       "            </tr>\n",
       "            <tr>\n",
       "                        <th id=\"T_d09667ac_aeff_11ea_878e_b4b676e4d41dlevel0_row6\" class=\"row_heading level0 row6\" >7</th>\n",
       "                        <td id=\"T_d09667ac_aeff_11ea_878e_b4b676e4d41drow6_col0\" class=\"data row6 col0\" >time</td>\n",
       "                        <td id=\"T_d09667ac_aeff_11ea_878e_b4b676e4d41drow6_col1\" class=\"data row6 col1\" >23958</td>\n",
       "            </tr>\n",
       "            <tr>\n",
       "                        <th id=\"T_d09667ac_aeff_11ea_878e_b4b676e4d41dlevel0_row7\" class=\"row_heading level0 row7\" >8</th>\n",
       "                        <td id=\"T_d09667ac_aeff_11ea_878e_b4b676e4d41drow7_col0\" class=\"data row7 col0\" >really</td>\n",
       "                        <td id=\"T_d09667ac_aeff_11ea_878e_b4b676e4d41drow7_col1\" class=\"data row7 col1\" >23011</td>\n",
       "            </tr>\n",
       "            <tr>\n",
       "                        <th id=\"T_d09667ac_aeff_11ea_878e_b4b676e4d41dlevel0_row8\" class=\"row_heading level0 row8\" >9</th>\n",
       "                        <td id=\"T_d09667ac_aeff_11ea_878e_b4b676e4d41drow8_col0\" class=\"data row8 col0\" >see</td>\n",
       "                        <td id=\"T_d09667ac_aeff_11ea_878e_b4b676e4d41drow8_col1\" class=\"data row8 col1\" >22639</td>\n",
       "            </tr>\n",
       "            <tr>\n",
       "                        <th id=\"T_d09667ac_aeff_11ea_878e_b4b676e4d41dlevel0_row9\" class=\"row_heading level0 row9\" >10</th>\n",
       "                        <td id=\"T_d09667ac_aeff_11ea_878e_b4b676e4d41drow9_col0\" class=\"data row9 col0\" >story</td>\n",
       "                        <td id=\"T_d09667ac_aeff_11ea_878e_b4b676e4d41drow9_col1\" class=\"data row9 col1\" >22512</td>\n",
       "            </tr>\n",
       "            <tr>\n",
       "                        <th id=\"T_d09667ac_aeff_11ea_878e_b4b676e4d41dlevel0_row10\" class=\"row_heading level0 row10\" >11</th>\n",
       "                        <td id=\"T_d09667ac_aeff_11ea_878e_b4b676e4d41drow10_col0\" class=\"data row10 col0\" >well</td>\n",
       "                        <td id=\"T_d09667ac_aeff_11ea_878e_b4b676e4d41drow10_col1\" class=\"data row10 col1\" >19226</td>\n",
       "            </tr>\n",
       "            <tr>\n",
       "                        <th id=\"T_d09667ac_aeff_11ea_878e_b4b676e4d41dlevel0_row11\" class=\"row_heading level0 row11\" >12</th>\n",
       "                        <td id=\"T_d09667ac_aeff_11ea_878e_b4b676e4d41drow11_col0\" class=\"data row11 col0\" >much</td>\n",
       "                        <td id=\"T_d09667ac_aeff_11ea_878e_b4b676e4d41drow11_col1\" class=\"data row11 col1\" >19109</td>\n",
       "            </tr>\n",
       "            <tr>\n",
       "                        <th id=\"T_d09667ac_aeff_11ea_878e_b4b676e4d41dlevel0_row12\" class=\"row_heading level0 row12\" >13</th>\n",
       "                        <td id=\"T_d09667ac_aeff_11ea_878e_b4b676e4d41drow12_col0\" class=\"data row12 col0\" >get</td>\n",
       "                        <td id=\"T_d09667ac_aeff_11ea_878e_b4b676e4d41drow12_col1\" class=\"data row12 col1\" >18243</td>\n",
       "            </tr>\n",
       "            <tr>\n",
       "                        <th id=\"T_d09667ac_aeff_11ea_878e_b4b676e4d41dlevel0_row13\" class=\"row_heading level0 row13\" >14</th>\n",
       "                        <td id=\"T_d09667ac_aeff_11ea_878e_b4b676e4d41drow13_col0\" class=\"data row13 col0\" >bad</td>\n",
       "                        <td id=\"T_d09667ac_aeff_11ea_878e_b4b676e4d41drow13_col1\" class=\"data row13 col1\" >17989</td>\n",
       "            </tr>\n",
       "            <tr>\n",
       "                        <th id=\"T_d09667ac_aeff_11ea_878e_b4b676e4d41dlevel0_row14\" class=\"row_heading level0 row14\" >15</th>\n",
       "                        <td id=\"T_d09667ac_aeff_11ea_878e_b4b676e4d41drow14_col0\" class=\"data row14 col0\" >great</td>\n",
       "                        <td id=\"T_d09667ac_aeff_11ea_878e_b4b676e4d41drow14_col1\" class=\"data row14 col1\" >17934</td>\n",
       "            </tr>\n",
       "            <tr>\n",
       "                        <th id=\"T_d09667ac_aeff_11ea_878e_b4b676e4d41dlevel0_row15\" class=\"row_heading level0 row15\" >16</th>\n",
       "                        <td id=\"T_d09667ac_aeff_11ea_878e_b4b676e4d41drow15_col0\" class=\"data row15 col0\" >also</td>\n",
       "                        <td id=\"T_d09667ac_aeff_11ea_878e_b4b676e4d41drow15_col1\" class=\"data row15 col1\" >17854</td>\n",
       "            </tr>\n",
       "            <tr>\n",
       "                        <th id=\"T_d09667ac_aeff_11ea_878e_b4b676e4d41dlevel0_row16\" class=\"row_heading level0 row16\" >17</th>\n",
       "                        <td id=\"T_d09667ac_aeff_11ea_878e_b4b676e4d41drow16_col0\" class=\"data row16 col0\" >people</td>\n",
       "                        <td id=\"T_d09667ac_aeff_11ea_878e_b4b676e4d41drow16_col1\" class=\"data row16 col1\" >17707</td>\n",
       "            </tr>\n",
       "            <tr>\n",
       "                        <th id=\"T_d09667ac_aeff_11ea_878e_b4b676e4d41dlevel0_row17\" class=\"row_heading level0 row17\" >18</th>\n",
       "                        <td id=\"T_d09667ac_aeff_11ea_878e_b4b676e4d41drow17_col0\" class=\"data row17 col0\" >first</td>\n",
       "                        <td id=\"T_d09667ac_aeff_11ea_878e_b4b676e4d41drow17_col1\" class=\"data row17 col1\" >17204</td>\n",
       "            </tr>\n",
       "            <tr>\n",
       "                        <th id=\"T_d09667ac_aeff_11ea_878e_b4b676e4d41dlevel0_row18\" class=\"row_heading level0 row18\" >19</th>\n",
       "                        <td id=\"T_d09667ac_aeff_11ea_878e_b4b676e4d41drow18_col0\" class=\"data row18 col0\" >dont</td>\n",
       "                        <td id=\"T_d09667ac_aeff_11ea_878e_b4b676e4d41drow18_col1\" class=\"data row18 col1\" >16922</td>\n",
       "            </tr>\n",
       "    </tbody></table>"
      ],
      "text/plain": [
       "<pandas.io.formats.style.Styler at 0x1f6b4b5fe10>"
      ]
     },
     "execution_count": 21,
     "metadata": {},
     "output_type": "execute_result"
    }
   ],
   "source": [
    "top = Counter([item for sublist in data['temp_review'] for item in sublist])\n",
    "temp = pd.DataFrame(top.most_common(20))\n",
    "temp = temp.iloc[1:,:]\n",
    "temp.columns = ['Common_words','count']\n",
    "temp.style.background_gradient(cmap='Purples')"
   ]
  },
  {
   "cell_type": "code",
   "execution_count": 22,
   "metadata": {},
   "outputs": [
    {
     "data": {
      "text/html": [
       "<style  type=\"text/css\" >\n",
       "    #T_d1172dc2_aeff_11ea_a8db_b4b676e4d41drow0_col1 {\n",
       "            background-color:  #00441b;\n",
       "            color:  #f1f1f1;\n",
       "        }    #T_d1172dc2_aeff_11ea_a8db_b4b676e4d41drow1_col1 {\n",
       "            background-color:  #006729;\n",
       "            color:  #f1f1f1;\n",
       "        }    #T_d1172dc2_aeff_11ea_a8db_b4b676e4d41drow2_col1 {\n",
       "            background-color:  #5ab769;\n",
       "            color:  #000000;\n",
       "        }    #T_d1172dc2_aeff_11ea_a8db_b4b676e4d41drow3_col1 {\n",
       "            background-color:  #c0e6b9;\n",
       "            color:  #000000;\n",
       "        }    #T_d1172dc2_aeff_11ea_a8db_b4b676e4d41drow4_col1 {\n",
       "            background-color:  #d5efcf;\n",
       "            color:  #000000;\n",
       "        }    #T_d1172dc2_aeff_11ea_a8db_b4b676e4d41drow5_col1 {\n",
       "            background-color:  #e2f4dd;\n",
       "            color:  #000000;\n",
       "        }    #T_d1172dc2_aeff_11ea_a8db_b4b676e4d41drow6_col1 {\n",
       "            background-color:  #e3f4de;\n",
       "            color:  #000000;\n",
       "        }    #T_d1172dc2_aeff_11ea_a8db_b4b676e4d41drow7_col1 {\n",
       "            background-color:  #e6f5e1;\n",
       "            color:  #000000;\n",
       "        }    #T_d1172dc2_aeff_11ea_a8db_b4b676e4d41drow8_col1 {\n",
       "            background-color:  #e7f6e3;\n",
       "            color:  #000000;\n",
       "        }    #T_d1172dc2_aeff_11ea_a8db_b4b676e4d41drow9_col1 {\n",
       "            background-color:  #e9f7e5;\n",
       "            color:  #000000;\n",
       "        }    #T_d1172dc2_aeff_11ea_a8db_b4b676e4d41drow10_col1 {\n",
       "            background-color:  #edf8e9;\n",
       "            color:  #000000;\n",
       "        }    #T_d1172dc2_aeff_11ea_a8db_b4b676e4d41drow11_col1 {\n",
       "            background-color:  #edf8e9;\n",
       "            color:  #000000;\n",
       "        }    #T_d1172dc2_aeff_11ea_a8db_b4b676e4d41drow12_col1 {\n",
       "            background-color:  #eef8ea;\n",
       "            color:  #000000;\n",
       "        }    #T_d1172dc2_aeff_11ea_a8db_b4b676e4d41drow13_col1 {\n",
       "            background-color:  #f2faf0;\n",
       "            color:  #000000;\n",
       "        }    #T_d1172dc2_aeff_11ea_a8db_b4b676e4d41drow14_col1 {\n",
       "            background-color:  #f4fbf2;\n",
       "            color:  #000000;\n",
       "        }    #T_d1172dc2_aeff_11ea_a8db_b4b676e4d41drow15_col1 {\n",
       "            background-color:  #f5fbf2;\n",
       "            color:  #000000;\n",
       "        }    #T_d1172dc2_aeff_11ea_a8db_b4b676e4d41drow16_col1 {\n",
       "            background-color:  #f6fcf4;\n",
       "            color:  #000000;\n",
       "        }    #T_d1172dc2_aeff_11ea_a8db_b4b676e4d41drow17_col1 {\n",
       "            background-color:  #f7fcf5;\n",
       "            color:  #000000;\n",
       "        }    #T_d1172dc2_aeff_11ea_a8db_b4b676e4d41drow18_col1 {\n",
       "            background-color:  #f7fcf5;\n",
       "            color:  #000000;\n",
       "        }    #T_d1172dc2_aeff_11ea_a8db_b4b676e4d41drow19_col1 {\n",
       "            background-color:  #f7fcf5;\n",
       "            color:  #000000;\n",
       "        }</style><table id=\"T_d1172dc2_aeff_11ea_a8db_b4b676e4d41d\" ><thead>    <tr>        <th class=\"blank level0\" ></th>        <th class=\"col_heading level0 col0\" >Common_words</th>        <th class=\"col_heading level0 col1\" >count</th>    </tr></thead><tbody>\n",
       "                <tr>\n",
       "                        <th id=\"T_d1172dc2_aeff_11ea_a8db_b4b676e4d41dlevel0_row0\" class=\"row_heading level0 row0\" >0</th>\n",
       "                        <td id=\"T_d1172dc2_aeff_11ea_a8db_b4b676e4d41drow0_col0\" class=\"data row0 col0\" >film</td>\n",
       "                        <td id=\"T_d1172dc2_aeff_11ea_a8db_b4b676e4d41drow0_col1\" class=\"data row0 col1\" >40161</td>\n",
       "            </tr>\n",
       "            <tr>\n",
       "                        <th id=\"T_d1172dc2_aeff_11ea_a8db_b4b676e4d41dlevel0_row1\" class=\"row_heading level0 row1\" >1</th>\n",
       "                        <td id=\"T_d1172dc2_aeff_11ea_a8db_b4b676e4d41drow1_col0\" class=\"data row1 col0\" >movie</td>\n",
       "                        <td id=\"T_d1172dc2_aeff_11ea_a8db_b4b676e4d41drow1_col1\" class=\"data row1 col1\" >36700</td>\n",
       "            </tr>\n",
       "            <tr>\n",
       "                        <th id=\"T_d1172dc2_aeff_11ea_a8db_b4b676e4d41dlevel0_row2\" class=\"row_heading level0 row2\" >2</th>\n",
       "                        <td id=\"T_d1172dc2_aeff_11ea_a8db_b4b676e4d41drow2_col0\" class=\"data row2 col0\" >one</td>\n",
       "                        <td id=\"T_d1172dc2_aeff_11ea_a8db_b4b676e4d41drow2_col1\" class=\"data row2 col1\" >26291</td>\n",
       "            </tr>\n",
       "            <tr>\n",
       "                        <th id=\"T_d1172dc2_aeff_11ea_a8db_b4b676e4d41dlevel0_row3\" class=\"row_heading level0 row3\" >3</th>\n",
       "                        <td id=\"T_d1172dc2_aeff_11ea_a8db_b4b676e4d41drow3_col0\" class=\"data row3 col0\" >like</td>\n",
       "                        <td id=\"T_d1172dc2_aeff_11ea_a8db_b4b676e4d41drow3_col1\" class=\"data row3 col1\" >17180</td>\n",
       "            </tr>\n",
       "            <tr>\n",
       "                        <th id=\"T_d1172dc2_aeff_11ea_a8db_b4b676e4d41dlevel0_row4\" class=\"row_heading level0 row4\" >4</th>\n",
       "                        <td id=\"T_d1172dc2_aeff_11ea_a8db_b4b676e4d41drow4_col0\" class=\"data row4 col0\" >good</td>\n",
       "                        <td id=\"T_d1172dc2_aeff_11ea_a8db_b4b676e4d41drow4_col1\" class=\"data row4 col1\" >14572</td>\n",
       "            </tr>\n",
       "            <tr>\n",
       "                        <th id=\"T_d1172dc2_aeff_11ea_a8db_b4b676e4d41dlevel0_row5\" class=\"row_heading level0 row5\" >5</th>\n",
       "                        <td id=\"T_d1172dc2_aeff_11ea_a8db_b4b676e4d41drow5_col0\" class=\"data row5 col0\" >great</td>\n",
       "                        <td id=\"T_d1172dc2_aeff_11ea_a8db_b4b676e4d41drow5_col1\" class=\"data row5 col1\" >12810</td>\n",
       "            </tr>\n",
       "            <tr>\n",
       "                        <th id=\"T_d1172dc2_aeff_11ea_a8db_b4b676e4d41dlevel0_row6\" class=\"row_heading level0 row6\" >6</th>\n",
       "                        <td id=\"T_d1172dc2_aeff_11ea_a8db_b4b676e4d41drow6_col0\" class=\"data row6 col0\" >story</td>\n",
       "                        <td id=\"T_d1172dc2_aeff_11ea_a8db_b4b676e4d41drow6_col1\" class=\"data row6 col1\" >12610</td>\n",
       "            </tr>\n",
       "            <tr>\n",
       "                        <th id=\"T_d1172dc2_aeff_11ea_a8db_b4b676e4d41dlevel0_row7\" class=\"row_heading level0 row7\" >7</th>\n",
       "                        <td id=\"T_d1172dc2_aeff_11ea_a8db_b4b676e4d41drow7_col0\" class=\"data row7 col0\" >time</td>\n",
       "                        <td id=\"T_d1172dc2_aeff_11ea_a8db_b4b676e4d41drow7_col1\" class=\"data row7 col1\" >12122</td>\n",
       "            </tr>\n",
       "            <tr>\n",
       "                        <th id=\"T_d1172dc2_aeff_11ea_a8db_b4b676e4d41dlevel0_row8\" class=\"row_heading level0 row8\" >8</th>\n",
       "                        <td id=\"T_d1172dc2_aeff_11ea_a8db_b4b676e4d41drow8_col0\" class=\"data row8 col0\" >see</td>\n",
       "                        <td id=\"T_d1172dc2_aeff_11ea_a8db_b4b676e4d41drow8_col1\" class=\"data row8 col1\" >11985</td>\n",
       "            </tr>\n",
       "            <tr>\n",
       "                        <th id=\"T_d1172dc2_aeff_11ea_a8db_b4b676e4d41dlevel0_row9\" class=\"row_heading level0 row9\" >9</th>\n",
       "                        <td id=\"T_d1172dc2_aeff_11ea_a8db_b4b676e4d41drow9_col0\" class=\"data row9 col0\" >well</td>\n",
       "                        <td id=\"T_d1172dc2_aeff_11ea_a8db_b4b676e4d41drow9_col1\" class=\"data row9 col1\" >11406</td>\n",
       "            </tr>\n",
       "            <tr>\n",
       "                        <th id=\"T_d1172dc2_aeff_11ea_a8db_b4b676e4d41dlevel0_row10\" class=\"row_heading level0 row10\" >10</th>\n",
       "                        <td id=\"T_d1172dc2_aeff_11ea_a8db_b4b676e4d41drow10_col0\" class=\"data row10 col0\" >also</td>\n",
       "                        <td id=\"T_d1172dc2_aeff_11ea_a8db_b4b676e4d41drow10_col1\" class=\"data row10 col1\" >10724</td>\n",
       "            </tr>\n",
       "            <tr>\n",
       "                        <th id=\"T_d1172dc2_aeff_11ea_a8db_b4b676e4d41dlevel0_row11\" class=\"row_heading level0 row11\" >11</th>\n",
       "                        <td id=\"T_d1172dc2_aeff_11ea_a8db_b4b676e4d41drow11_col0\" class=\"data row11 col0\" >really</td>\n",
       "                        <td id=\"T_d1172dc2_aeff_11ea_a8db_b4b676e4d41drow11_col1\" class=\"data row11 col1\" >10718</td>\n",
       "            </tr>\n",
       "            <tr>\n",
       "                        <th id=\"T_d1172dc2_aeff_11ea_a8db_b4b676e4d41dlevel0_row12\" class=\"row_heading level0 row12\" >12</th>\n",
       "                        <td id=\"T_d1172dc2_aeff_11ea_a8db_b4b676e4d41drow12_col0\" class=\"data row12 col0\" >would</td>\n",
       "                        <td id=\"T_d1172dc2_aeff_11ea_a8db_b4b676e4d41drow12_col1\" class=\"data row12 col1\" >10383</td>\n",
       "            </tr>\n",
       "            <tr>\n",
       "                        <th id=\"T_d1172dc2_aeff_11ea_a8db_b4b676e4d41dlevel0_row13\" class=\"row_heading level0 row13\" >13</th>\n",
       "                        <td id=\"T_d1172dc2_aeff_11ea_a8db_b4b676e4d41drow13_col0\" class=\"data row13 col0\" >even</td>\n",
       "                        <td id=\"T_d1172dc2_aeff_11ea_a8db_b4b676e4d41drow13_col1\" class=\"data row13 col1\" >9482</td>\n",
       "            </tr>\n",
       "            <tr>\n",
       "                        <th id=\"T_d1172dc2_aeff_11ea_a8db_b4b676e4d41dlevel0_row14\" class=\"row_heading level0 row14\" >14</th>\n",
       "                        <td id=\"T_d1172dc2_aeff_11ea_a8db_b4b676e4d41drow14_col0\" class=\"data row14 col0\" >much</td>\n",
       "                        <td id=\"T_d1172dc2_aeff_11ea_a8db_b4b676e4d41drow14_col1\" class=\"data row14 col1\" >9095</td>\n",
       "            </tr>\n",
       "            <tr>\n",
       "                        <th id=\"T_d1172dc2_aeff_11ea_a8db_b4b676e4d41dlevel0_row15\" class=\"row_heading level0 row15\" >15</th>\n",
       "                        <td id=\"T_d1172dc2_aeff_11ea_a8db_b4b676e4d41drow15_col0\" class=\"data row15 col0\" >first</td>\n",
       "                        <td id=\"T_d1172dc2_aeff_11ea_a8db_b4b676e4d41drow15_col1\" class=\"data row15 col1\" >8986</td>\n",
       "            </tr>\n",
       "            <tr>\n",
       "                        <th id=\"T_d1172dc2_aeff_11ea_a8db_b4b676e4d41dlevel0_row16\" class=\"row_heading level0 row16\" >16</th>\n",
       "                        <td id=\"T_d1172dc2_aeff_11ea_a8db_b4b676e4d41drow16_col0\" class=\"data row16 col0\" >films</td>\n",
       "                        <td id=\"T_d1172dc2_aeff_11ea_a8db_b4b676e4d41drow16_col1\" class=\"data row16 col1\" >8581</td>\n",
       "            </tr>\n",
       "            <tr>\n",
       "                        <th id=\"T_d1172dc2_aeff_11ea_a8db_b4b676e4d41dlevel0_row17\" class=\"row_heading level0 row17\" >17</th>\n",
       "                        <td id=\"T_d1172dc2_aeff_11ea_a8db_b4b676e4d41drow17_col0\" class=\"data row17 col0\" >love</td>\n",
       "                        <td id=\"T_d1172dc2_aeff_11ea_a8db_b4b676e4d41drow17_col1\" class=\"data row17 col1\" >8498</td>\n",
       "            </tr>\n",
       "            <tr>\n",
       "                        <th id=\"T_d1172dc2_aeff_11ea_a8db_b4b676e4d41dlevel0_row18\" class=\"row_heading level0 row18\" >18</th>\n",
       "                        <td id=\"T_d1172dc2_aeff_11ea_a8db_b4b676e4d41drow18_col0\" class=\"data row18 col0\" >people</td>\n",
       "                        <td id=\"T_d1172dc2_aeff_11ea_a8db_b4b676e4d41drow18_col1\" class=\"data row18 col1\" >8472</td>\n",
       "            </tr>\n",
       "            <tr>\n",
       "                        <th id=\"T_d1172dc2_aeff_11ea_a8db_b4b676e4d41dlevel0_row19\" class=\"row_heading level0 row19\" >19</th>\n",
       "                        <td id=\"T_d1172dc2_aeff_11ea_a8db_b4b676e4d41drow19_col0\" class=\"data row19 col0\" >best</td>\n",
       "                        <td id=\"T_d1172dc2_aeff_11ea_a8db_b4b676e4d41drow19_col1\" class=\"data row19 col1\" >8388</td>\n",
       "            </tr>\n",
       "    </tbody></table>"
      ],
      "text/plain": [
       "<pandas.io.formats.style.Styler at 0x1f6b4b5be10>"
      ]
     },
     "execution_count": 22,
     "metadata": {},
     "output_type": "execute_result"
    }
   ],
   "source": [
    "Positive_sent = data[data['sentiment']==1]\n",
    "Negative_sent = data[data['sentiment']==0]\n",
    "\n",
    "#MosT common positive words\n",
    "top = Counter([item for sublist in Positive_sent['temp_review'] for item in sublist])\n",
    "temp_positive = pd.DataFrame(top.most_common(20))\n",
    "temp_positive.columns = ['Common_words','count']\n",
    "temp_positive.style.background_gradient(cmap='Greens')"
   ]
  },
  {
   "cell_type": "code",
   "execution_count": 23,
   "metadata": {},
   "outputs": [
    {
     "data": {
      "text/html": [
       "<style  type=\"text/css\" >\n",
       "    #T_d18f5fa4_aeff_11ea_b59d_b4b676e4d41drow0_col1 {\n",
       "            background-color:  #67000d;\n",
       "            color:  #f1f1f1;\n",
       "        }    #T_d18f5fa4_aeff_11ea_b59d_b4b676e4d41drow1_col1 {\n",
       "            background-color:  #f0402f;\n",
       "            color:  #f1f1f1;\n",
       "        }    #T_d18f5fa4_aeff_11ea_b59d_b4b676e4d41drow2_col1 {\n",
       "            background-color:  #fb6d4d;\n",
       "            color:  #000000;\n",
       "        }    #T_d18f5fa4_aeff_11ea_b59d_b4b676e4d41drow3_col1 {\n",
       "            background-color:  #fcbea5;\n",
       "            color:  #000000;\n",
       "        }    #T_d18f5fa4_aeff_11ea_b59d_b4b676e4d41drow4_col1 {\n",
       "            background-color:  #fdc5ae;\n",
       "            color:  #000000;\n",
       "        }    #T_d18f5fa4_aeff_11ea_b59d_b4b676e4d41drow5_col1 {\n",
       "            background-color:  #fdc6b0;\n",
       "            color:  #000000;\n",
       "        }    #T_d18f5fa4_aeff_11ea_b59d_b4b676e4d41drow6_col1 {\n",
       "            background-color:  #fdcdb9;\n",
       "            color:  #000000;\n",
       "        }    #T_d18f5fa4_aeff_11ea_b59d_b4b676e4d41drow7_col1 {\n",
       "            background-color:  #fedccd;\n",
       "            color:  #000000;\n",
       "        }    #T_d18f5fa4_aeff_11ea_b59d_b4b676e4d41drow8_col1 {\n",
       "            background-color:  #fee1d3;\n",
       "            color:  #000000;\n",
       "        }    #T_d18f5fa4_aeff_11ea_b59d_b4b676e4d41drow9_col1 {\n",
       "            background-color:  #fee8dd;\n",
       "            color:  #000000;\n",
       "        }    #T_d18f5fa4_aeff_11ea_b59d_b4b676e4d41drow10_col1 {\n",
       "            background-color:  #feeae1;\n",
       "            color:  #000000;\n",
       "        }    #T_d18f5fa4_aeff_11ea_b59d_b4b676e4d41drow11_col1 {\n",
       "            background-color:  #ffece3;\n",
       "            color:  #000000;\n",
       "        }    #T_d18f5fa4_aeff_11ea_b59d_b4b676e4d41drow12_col1 {\n",
       "            background-color:  #ffece3;\n",
       "            color:  #000000;\n",
       "        }    #T_d18f5fa4_aeff_11ea_b59d_b4b676e4d41drow13_col1 {\n",
       "            background-color:  #ffece4;\n",
       "            color:  #000000;\n",
       "        }    #T_d18f5fa4_aeff_11ea_b59d_b4b676e4d41drow14_col1 {\n",
       "            background-color:  #fff0e9;\n",
       "            color:  #000000;\n",
       "        }    #T_d18f5fa4_aeff_11ea_b59d_b4b676e4d41drow15_col1 {\n",
       "            background-color:  #fff2eb;\n",
       "            color:  #000000;\n",
       "        }    #T_d18f5fa4_aeff_11ea_b59d_b4b676e4d41drow16_col1 {\n",
       "            background-color:  #fff2eb;\n",
       "            color:  #000000;\n",
       "        }    #T_d18f5fa4_aeff_11ea_b59d_b4b676e4d41drow17_col1 {\n",
       "            background-color:  #fff5f0;\n",
       "            color:  #000000;\n",
       "        }    #T_d18f5fa4_aeff_11ea_b59d_b4b676e4d41drow18_col1 {\n",
       "            background-color:  #fff5f0;\n",
       "            color:  #000000;\n",
       "        }</style><table id=\"T_d18f5fa4_aeff_11ea_b59d_b4b676e4d41d\" ><thead>    <tr>        <th class=\"blank level0\" ></th>        <th class=\"col_heading level0 col0\" >Common_words</th>        <th class=\"col_heading level0 col1\" >count</th>    </tr></thead><tbody>\n",
       "                <tr>\n",
       "                        <th id=\"T_d18f5fa4_aeff_11ea_b59d_b4b676e4d41dlevel0_row0\" class=\"row_heading level0 row0\" >1</th>\n",
       "                        <td id=\"T_d18f5fa4_aeff_11ea_b59d_b4b676e4d41drow0_col0\" class=\"data row0 col0\" >film</td>\n",
       "                        <td id=\"T_d18f5fa4_aeff_11ea_b59d_b4b676e4d41drow0_col1\" class=\"data row0 col1\" >35865</td>\n",
       "            </tr>\n",
       "            <tr>\n",
       "                        <th id=\"T_d18f5fa4_aeff_11ea_b59d_b4b676e4d41dlevel0_row1\" class=\"row_heading level0 row1\" >2</th>\n",
       "                        <td id=\"T_d18f5fa4_aeff_11ea_b59d_b4b676e4d41drow1_col0\" class=\"data row1 col0\" >one</td>\n",
       "                        <td id=\"T_d18f5fa4_aeff_11ea_b59d_b4b676e4d41drow1_col1\" class=\"data row1 col1\" >25181</td>\n",
       "            </tr>\n",
       "            <tr>\n",
       "                        <th id=\"T_d18f5fa4_aeff_11ea_b59d_b4b676e4d41dlevel0_row2\" class=\"row_heading level0 row2\" >3</th>\n",
       "                        <td id=\"T_d18f5fa4_aeff_11ea_b59d_b4b676e4d41drow2_col0\" class=\"data row2 col0\" >like</td>\n",
       "                        <td id=\"T_d18f5fa4_aeff_11ea_b59d_b4b676e4d41drow2_col1\" class=\"data row2 col1\" >21881</td>\n",
       "            </tr>\n",
       "            <tr>\n",
       "                        <th id=\"T_d18f5fa4_aeff_11ea_b59d_b4b676e4d41dlevel0_row3\" class=\"row_heading level0 row3\" >4</th>\n",
       "                        <td id=\"T_d18f5fa4_aeff_11ea_b59d_b4b676e4d41drow3_col0\" class=\"data row3 col0\" >even</td>\n",
       "                        <td id=\"T_d18f5fa4_aeff_11ea_b59d_b4b676e4d41drow3_col1\" class=\"data row3 col1\" >15098</td>\n",
       "            </tr>\n",
       "            <tr>\n",
       "                        <th id=\"T_d18f5fa4_aeff_11ea_b59d_b4b676e4d41dlevel0_row4\" class=\"row_heading level0 row4\" >5</th>\n",
       "                        <td id=\"T_d18f5fa4_aeff_11ea_b59d_b4b676e4d41drow4_col0\" class=\"data row4 col0\" >bad</td>\n",
       "                        <td id=\"T_d18f5fa4_aeff_11ea_b59d_b4b676e4d41drow4_col1\" class=\"data row4 col1\" >14362</td>\n",
       "            </tr>\n",
       "            <tr>\n",
       "                        <th id=\"T_d18f5fa4_aeff_11ea_b59d_b4b676e4d41dlevel0_row5\" class=\"row_heading level0 row5\" >6</th>\n",
       "                        <td id=\"T_d18f5fa4_aeff_11ea_b59d_b4b676e4d41drow5_col0\" class=\"data row5 col0\" >good</td>\n",
       "                        <td id=\"T_d18f5fa4_aeff_11ea_b59d_b4b676e4d41drow5_col1\" class=\"data row5 col1\" >14340</td>\n",
       "            </tr>\n",
       "            <tr>\n",
       "                        <th id=\"T_d18f5fa4_aeff_11ea_b59d_b4b676e4d41dlevel0_row6\" class=\"row_heading level0 row6\" >7</th>\n",
       "                        <td id=\"T_d18f5fa4_aeff_11ea_b59d_b4b676e4d41drow6_col0\" class=\"data row6 col0\" >would</td>\n",
       "                        <td id=\"T_d18f5fa4_aeff_11ea_b59d_b4b676e4d41drow6_col1\" class=\"data row6 col1\" >13651</td>\n",
       "            </tr>\n",
       "            <tr>\n",
       "                        <th id=\"T_d18f5fa4_aeff_11ea_b59d_b4b676e4d41dlevel0_row7\" class=\"row_heading level0 row7\" >8</th>\n",
       "                        <td id=\"T_d18f5fa4_aeff_11ea_b59d_b4b676e4d41drow7_col0\" class=\"data row7 col0\" >really</td>\n",
       "                        <td id=\"T_d18f5fa4_aeff_11ea_b59d_b4b676e4d41drow7_col1\" class=\"data row7 col1\" >12293</td>\n",
       "            </tr>\n",
       "            <tr>\n",
       "                        <th id=\"T_d18f5fa4_aeff_11ea_b59d_b4b676e4d41dlevel0_row8\" class=\"row_heading level0 row8\" >9</th>\n",
       "                        <td id=\"T_d18f5fa4_aeff_11ea_b59d_b4b676e4d41drow8_col0\" class=\"data row8 col0\" >time</td>\n",
       "                        <td id=\"T_d18f5fa4_aeff_11ea_b59d_b4b676e4d41drow8_col1\" class=\"data row8 col1\" >11836</td>\n",
       "            </tr>\n",
       "            <tr>\n",
       "                        <th id=\"T_d18f5fa4_aeff_11ea_b59d_b4b676e4d41dlevel0_row9\" class=\"row_heading level0 row9\" >10</th>\n",
       "                        <td id=\"T_d18f5fa4_aeff_11ea_b59d_b4b676e4d41drow9_col0\" class=\"data row9 col0\" >see</td>\n",
       "                        <td id=\"T_d18f5fa4_aeff_11ea_b59d_b4b676e4d41drow9_col1\" class=\"data row9 col1\" >10654</td>\n",
       "            </tr>\n",
       "            <tr>\n",
       "                        <th id=\"T_d18f5fa4_aeff_11ea_b59d_b4b676e4d41dlevel0_row10\" class=\"row_heading level0 row10\" >11</th>\n",
       "                        <td id=\"T_d18f5fa4_aeff_11ea_b59d_b4b676e4d41drow10_col0\" class=\"data row10 col0\" >dont</td>\n",
       "                        <td id=\"T_d18f5fa4_aeff_11ea_b59d_b4b676e4d41drow10_col1\" class=\"data row10 col1\" >10253</td>\n",
       "            </tr>\n",
       "            <tr>\n",
       "                        <th id=\"T_d18f5fa4_aeff_11ea_b59d_b4b676e4d41dlevel0_row11\" class=\"row_heading level0 row11\" >12</th>\n",
       "                        <td id=\"T_d18f5fa4_aeff_11ea_b59d_b4b676e4d41drow11_col0\" class=\"data row11 col0\" >get</td>\n",
       "                        <td id=\"T_d18f5fa4_aeff_11ea_b59d_b4b676e4d41drow11_col1\" class=\"data row11 col1\" >10033</td>\n",
       "            </tr>\n",
       "            <tr>\n",
       "                        <th id=\"T_d18f5fa4_aeff_11ea_b59d_b4b676e4d41dlevel0_row12\" class=\"row_heading level0 row12\" >13</th>\n",
       "                        <td id=\"T_d18f5fa4_aeff_11ea_b59d_b4b676e4d41drow12_col0\" class=\"data row12 col0\" >much</td>\n",
       "                        <td id=\"T_d18f5fa4_aeff_11ea_b59d_b4b676e4d41drow12_col1\" class=\"data row12 col1\" >10014</td>\n",
       "            </tr>\n",
       "            <tr>\n",
       "                        <th id=\"T_d18f5fa4_aeff_11ea_b59d_b4b676e4d41dlevel0_row13\" class=\"row_heading level0 row13\" >14</th>\n",
       "                        <td id=\"T_d18f5fa4_aeff_11ea_b59d_b4b676e4d41drow13_col0\" class=\"data row13 col0\" >story</td>\n",
       "                        <td id=\"T_d18f5fa4_aeff_11ea_b59d_b4b676e4d41drow13_col1\" class=\"data row13 col1\" >9902</td>\n",
       "            </tr>\n",
       "            <tr>\n",
       "                        <th id=\"T_d18f5fa4_aeff_11ea_b59d_b4b676e4d41dlevel0_row14\" class=\"row_heading level0 row14\" >15</th>\n",
       "                        <td id=\"T_d18f5fa4_aeff_11ea_b59d_b4b676e4d41drow14_col0\" class=\"data row14 col0\" >people</td>\n",
       "                        <td id=\"T_d18f5fa4_aeff_11ea_b59d_b4b676e4d41drow14_col1\" class=\"data row14 col1\" >9235</td>\n",
       "            </tr>\n",
       "            <tr>\n",
       "                        <th id=\"T_d18f5fa4_aeff_11ea_b59d_b4b676e4d41dlevel0_row15\" class=\"row_heading level0 row15\" >16</th>\n",
       "                        <td id=\"T_d18f5fa4_aeff_11ea_b59d_b4b676e4d41drow15_col0\" class=\"data row15 col0\" >could</td>\n",
       "                        <td id=\"T_d18f5fa4_aeff_11ea_b59d_b4b676e4d41drow15_col1\" class=\"data row15 col1\" >9055</td>\n",
       "            </tr>\n",
       "            <tr>\n",
       "                        <th id=\"T_d18f5fa4_aeff_11ea_b59d_b4b676e4d41dlevel0_row16\" class=\"row_heading level0 row16\" >17</th>\n",
       "                        <td id=\"T_d18f5fa4_aeff_11ea_b59d_b4b676e4d41drow16_col0\" class=\"data row16 col0\" >make</td>\n",
       "                        <td id=\"T_d18f5fa4_aeff_11ea_b59d_b4b676e4d41drow16_col1\" class=\"data row16 col1\" >9014</td>\n",
       "            </tr>\n",
       "            <tr>\n",
       "                        <th id=\"T_d18f5fa4_aeff_11ea_b59d_b4b676e4d41dlevel0_row17\" class=\"row_heading level0 row17\" >18</th>\n",
       "                        <td id=\"T_d18f5fa4_aeff_11ea_b59d_b4b676e4d41drow17_col0\" class=\"data row17 col0\" >movies</td>\n",
       "                        <td id=\"T_d18f5fa4_aeff_11ea_b59d_b4b676e4d41drow17_col1\" class=\"data row17 col1\" >8504</td>\n",
       "            </tr>\n",
       "            <tr>\n",
       "                        <th id=\"T_d18f5fa4_aeff_11ea_b59d_b4b676e4d41dlevel0_row18\" class=\"row_heading level0 row18\" >19</th>\n",
       "                        <td id=\"T_d18f5fa4_aeff_11ea_b59d_b4b676e4d41drow18_col0\" class=\"data row18 col0\" >made</td>\n",
       "                        <td id=\"T_d18f5fa4_aeff_11ea_b59d_b4b676e4d41drow18_col1\" class=\"data row18 col1\" >8472</td>\n",
       "            </tr>\n",
       "    </tbody></table>"
      ],
      "text/plain": [
       "<pandas.io.formats.style.Styler at 0x1f6b4b5b978>"
      ]
     },
     "execution_count": 23,
     "metadata": {},
     "output_type": "execute_result"
    }
   ],
   "source": [
    "#MosT common negative words\n",
    "top = Counter([item for sublist in Negative_sent['temp_review'] for item in sublist])\n",
    "temp_negative = pd.DataFrame(top.most_common(20))\n",
    "temp_negative = temp_negative.iloc[1:,:]\n",
    "temp_negative.columns = ['Common_words','count']\n",
    "temp_negative.style.background_gradient(cmap='Reds')"
   ]
  },
  {
   "cell_type": "code",
   "execution_count": 33,
   "metadata": {},
   "outputs": [],
   "source": [
    "raw_text = [word for word_list in data['temp_review'] for word in word_list]"
   ]
  },
  {
   "cell_type": "code",
   "execution_count": 36,
   "metadata": {},
   "outputs": [],
   "source": [
    "def words_unique(sentiment,numwords,raw_words):\n",
    "    '''\n",
    "    Input:\n",
    "        segment - Segment category (ex. 'Neutral');\n",
    "        numwords - how many specific words do you want to see in the final result; \n",
    "        raw_words - list  for item in train_data[train_data.segments == segments]['temp_list1']:\n",
    "    Output: \n",
    "        dataframe giving information about the name of the specific ingredient and how many times it occurs in the chosen cuisine (in descending order based on their counts)..\n",
    "\n",
    "    '''\n",
    "    allother = []\n",
    "    for item in data[data.sentiment != sentiment]['temp_review']:\n",
    "        for word in item:\n",
    "            allother .append(word)\n",
    "    allother  = list(set(allother ))\n",
    "    \n",
    "    specificnonly = [x for x in raw_text if x not in allother]\n",
    "    \n",
    "    mycounter = Counter()\n",
    "    \n",
    "    for item in data[data.sentiment == sentiment]['temp_review']:\n",
    "        for word in item:\n",
    "            mycounter[word] += 1\n",
    "    keep = list(specificnonly)\n",
    "    \n",
    "    for word in list(mycounter):\n",
    "        if word not in keep:\n",
    "            del mycounter[word]\n",
    "    \n",
    "    Unique_words = pd.DataFrame(mycounter.most_common(numwords), columns = ['words','count'])\n",
    "    \n",
    "    return Unique_words"
   ]
  },
  {
   "cell_type": "code",
   "execution_count": null,
   "metadata": {},
   "outputs": [],
   "source": [
    "Unique_Positive= words_unique(1, 20, raw_text)\n",
    "print(\"The top 20 unique words in Positive reviews are:\")\n",
    "Unique_Positive.style.background_gradient(cmap='Greens')"
   ]
  },
  {
   "cell_type": "code",
   "execution_count": null,
   "metadata": {},
   "outputs": [],
   "source": [
    "Unique_Negative= words_unique(0, 10, raw_text)\n",
    "print(\"The top 10 unique words in Negative reviews are:\")\n",
    "Unique_Negative.style.background_gradient(cmap='Reds')"
   ]
  },
  {
   "cell_type": "code",
   "execution_count": null,
   "metadata": {},
   "outputs": [],
   "source": [
    "\"\"\"\n",
    "\n",
    "분석 데이터의 eda입니다\n",
    "\n",
    "1. tweet 데이터\n",
    "\n",
    "2. Quora 데이터\n",
    "\n",
    "\"\"\""
   ]
  },
  {
   "cell_type": "code",
   "execution_count": 27,
   "metadata": {},
   "outputs": [
    {
     "data": {
      "text/html": [
       "<div>\n",
       "<style scoped>\n",
       "    .dataframe tbody tr th:only-of-type {\n",
       "        vertical-align: middle;\n",
       "    }\n",
       "\n",
       "    .dataframe tbody tr th {\n",
       "        vertical-align: top;\n",
       "    }\n",
       "\n",
       "    .dataframe thead th {\n",
       "        text-align: right;\n",
       "    }\n",
       "</style>\n",
       "<table border=\"1\" class=\"dataframe\">\n",
       "  <thead>\n",
       "    <tr style=\"text-align: right;\">\n",
       "      <th></th>\n",
       "      <th>text</th>\n",
       "    </tr>\n",
       "  </thead>\n",
       "  <tbody>\n",
       "    <tr>\n",
       "      <td>0</td>\n",
       "      <td>current trends in iot at workplace market is ...</td>\n",
       "    </tr>\n",
       "    <tr>\n",
       "      <td>1</td>\n",
       "      <td>iot plays an important role in pharmaceutical ...</td>\n",
       "    </tr>\n",
       "    <tr>\n",
       "      <td>2</td>\n",
       "      <td>microsoft shells out  for iot security  threat...</td>\n",
       "    </tr>\n",
       "    <tr>\n",
       "      <td>3</td>\n",
       "      <td>with billions  billions of iot connected devic...</td>\n",
       "    </tr>\n",
       "    <tr>\n",
       "      <td>4</td>\n",
       "      <td>interesting discussion no doubt esim is the fu...</td>\n",
       "    </tr>\n",
       "  </tbody>\n",
       "</table>\n",
       "</div>"
      ],
      "text/plain": [
       "                                                text\n",
       "0   current trends in iot at workplace market is ...\n",
       "1  iot plays an important role in pharmaceutical ...\n",
       "2  microsoft shells out  for iot security  threat...\n",
       "3  with billions  billions of iot connected devic...\n",
       "4  interesting discussion no doubt esim is the fu..."
      ]
     },
     "execution_count": 27,
     "metadata": {},
     "output_type": "execute_result"
    }
   ],
   "source": [
    "#1. 트윗 데이터\n",
    "\n",
    "tw_data0501 = pd.read_csv('twitter_data_2020-05-01_to_2020-05-09.csv', encoding = 'UTF-8')\n",
    "tw_data0510 = pd.read_csv('twitter_data_2020-05-10_to_2020-05-20.csv', encoding = 'UTF-8')\n",
    "tw_data0521 = pd.read_csv('twitter_data_2020-05-21_to_2020-05-30.csv', encoding = 'UTF-8')\n",
    "tw_data0601 = pd.read_csv('twitter_data_2020-06-01_to_2020-06-10.csv', encoding = 'UTF-8')\n",
    "\n",
    "tw_data = pd.concat([tw_data0501, tw_data0510, tw_data0521, tw_data0601])\n",
    "tw_data.drop(['date', 'user_name'], axis='columns', inplace=True)\n",
    "\n",
    "tw_data['text'] = tw_data['text'].str.replace('<br />',' ')\n",
    "tw_data['text'] = tw_data['text'].apply(lambda x:clean_text(x))\n",
    "\n",
    "tw_data.head()"
   ]
  },
  {
   "cell_type": "code",
   "execution_count": 29,
   "metadata": {},
   "outputs": [
    {
     "data": {
      "text/html": [
       "<style  type=\"text/css\" >\n",
       "    #T_cedf97cc_af01_11ea_a59e_b4b676e4d41drow0_col1 {\n",
       "            background-color:  #08306b;\n",
       "            color:  #f1f1f1;\n",
       "        }    #T_cedf97cc_af01_11ea_a59e_b4b676e4d41drow1_col1 {\n",
       "            background-color:  #084f99;\n",
       "            color:  #f1f1f1;\n",
       "        }    #T_cedf97cc_af01_11ea_a59e_b4b676e4d41drow2_col1 {\n",
       "            background-color:  #d3e3f3;\n",
       "            color:  #000000;\n",
       "        }    #T_cedf97cc_af01_11ea_a59e_b4b676e4d41drow3_col1 {\n",
       "            background-color:  #e8f1fa;\n",
       "            color:  #000000;\n",
       "        }    #T_cedf97cc_af01_11ea_a59e_b4b676e4d41drow4_col1 {\n",
       "            background-color:  #e9f2fa;\n",
       "            color:  #000000;\n",
       "        }    #T_cedf97cc_af01_11ea_a59e_b4b676e4d41drow5_col1 {\n",
       "            background-color:  #ecf4fb;\n",
       "            color:  #000000;\n",
       "        }    #T_cedf97cc_af01_11ea_a59e_b4b676e4d41drow6_col1 {\n",
       "            background-color:  #edf4fc;\n",
       "            color:  #000000;\n",
       "        }    #T_cedf97cc_af01_11ea_a59e_b4b676e4d41drow7_col1 {\n",
       "            background-color:  #eef5fc;\n",
       "            color:  #000000;\n",
       "        }    #T_cedf97cc_af01_11ea_a59e_b4b676e4d41drow8_col1 {\n",
       "            background-color:  #eef5fc;\n",
       "            color:  #000000;\n",
       "        }    #T_cedf97cc_af01_11ea_a59e_b4b676e4d41drow9_col1 {\n",
       "            background-color:  #eef5fc;\n",
       "            color:  #000000;\n",
       "        }    #T_cedf97cc_af01_11ea_a59e_b4b676e4d41drow10_col1 {\n",
       "            background-color:  #f0f6fd;\n",
       "            color:  #000000;\n",
       "        }    #T_cedf97cc_af01_11ea_a59e_b4b676e4d41drow11_col1 {\n",
       "            background-color:  #f1f7fd;\n",
       "            color:  #000000;\n",
       "        }    #T_cedf97cc_af01_11ea_a59e_b4b676e4d41drow12_col1 {\n",
       "            background-color:  #f2f7fd;\n",
       "            color:  #000000;\n",
       "        }    #T_cedf97cc_af01_11ea_a59e_b4b676e4d41drow13_col1 {\n",
       "            background-color:  #f2f8fd;\n",
       "            color:  #000000;\n",
       "        }    #T_cedf97cc_af01_11ea_a59e_b4b676e4d41drow14_col1 {\n",
       "            background-color:  #f3f8fe;\n",
       "            color:  #000000;\n",
       "        }    #T_cedf97cc_af01_11ea_a59e_b4b676e4d41drow15_col1 {\n",
       "            background-color:  #f5f9fe;\n",
       "            color:  #000000;\n",
       "        }    #T_cedf97cc_af01_11ea_a59e_b4b676e4d41drow16_col1 {\n",
       "            background-color:  #f5f9fe;\n",
       "            color:  #000000;\n",
       "        }    #T_cedf97cc_af01_11ea_a59e_b4b676e4d41drow17_col1 {\n",
       "            background-color:  #f5f9fe;\n",
       "            color:  #000000;\n",
       "        }    #T_cedf97cc_af01_11ea_a59e_b4b676e4d41drow18_col1 {\n",
       "            background-color:  #f5fafe;\n",
       "            color:  #000000;\n",
       "        }    #T_cedf97cc_af01_11ea_a59e_b4b676e4d41drow19_col1 {\n",
       "            background-color:  #f5fafe;\n",
       "            color:  #000000;\n",
       "        }    #T_cedf97cc_af01_11ea_a59e_b4b676e4d41drow20_col1 {\n",
       "            background-color:  #f5fafe;\n",
       "            color:  #000000;\n",
       "        }    #T_cedf97cc_af01_11ea_a59e_b4b676e4d41drow21_col1 {\n",
       "            background-color:  #f7fbff;\n",
       "            color:  #000000;\n",
       "        }    #T_cedf97cc_af01_11ea_a59e_b4b676e4d41drow22_col1 {\n",
       "            background-color:  #f7fbff;\n",
       "            color:  #000000;\n",
       "        }    #T_cedf97cc_af01_11ea_a59e_b4b676e4d41drow23_col1 {\n",
       "            background-color:  #f7fbff;\n",
       "            color:  #000000;\n",
       "        }    #T_cedf97cc_af01_11ea_a59e_b4b676e4d41drow24_col1 {\n",
       "            background-color:  #f7fbff;\n",
       "            color:  #000000;\n",
       "        }</style><table id=\"T_cedf97cc_af01_11ea_a59e_b4b676e4d41d\" ><thead>    <tr>        <th class=\"blank level0\" ></th>        <th class=\"col_heading level0 col0\" >Common_words</th>        <th class=\"col_heading level0 col1\" >count</th>    </tr></thead><tbody>\n",
       "                <tr>\n",
       "                        <th id=\"T_cedf97cc_af01_11ea_a59e_b4b676e4d41dlevel0_row0\" class=\"row_heading level0 row0\" >0</th>\n",
       "                        <td id=\"T_cedf97cc_af01_11ea_a59e_b4b676e4d41drow0_col0\" class=\"data row0 col0\" >iot</td>\n",
       "                        <td id=\"T_cedf97cc_af01_11ea_a59e_b4b676e4d41drow0_col1\" class=\"data row0 col1\" >14032</td>\n",
       "            </tr>\n",
       "            <tr>\n",
       "                        <th id=\"T_cedf97cc_af01_11ea_a59e_b4b676e4d41dlevel0_row1\" class=\"row_heading level0 row1\" >1</th>\n",
       "                        <td id=\"T_cedf97cc_af01_11ea_a59e_b4b676e4d41drow1_col0\" class=\"data row1 col0\" >security</td>\n",
       "                        <td id=\"T_cedf97cc_af01_11ea_a59e_b4b676e4d41drow1_col1\" class=\"data row1 col1\" >12453</td>\n",
       "            </tr>\n",
       "            <tr>\n",
       "                        <th id=\"T_cedf97cc_af01_11ea_a59e_b4b676e4d41dlevel0_row2\" class=\"row_heading level0 row2\" >2</th>\n",
       "                        <td id=\"T_cedf97cc_af01_11ea_a59e_b4b676e4d41drow2_col0\" class=\"data row2 col0\" >cybersecurity</td>\n",
       "                        <td id=\"T_cedf97cc_af01_11ea_a59e_b4b676e4d41drow2_col1\" class=\"data row2 col1\" >3063</td>\n",
       "            </tr>\n",
       "            <tr>\n",
       "                        <th id=\"T_cedf97cc_af01_11ea_a59e_b4b676e4d41dlevel0_row3\" class=\"row_heading level0 row3\" >3</th>\n",
       "                        <td id=\"T_cedf97cc_af01_11ea_a59e_b4b676e4d41drow3_col0\" class=\"data row3 col0\" >devices</td>\n",
       "                        <td id=\"T_cedf97cc_af01_11ea_a59e_b4b676e4d41drow3_col1\" class=\"data row3 col1\" >1588</td>\n",
       "            </tr>\n",
       "            <tr>\n",
       "                        <th id=\"T_cedf97cc_af01_11ea_a59e_b4b676e4d41dlevel0_row4\" class=\"row_heading level0 row4\" >4</th>\n",
       "                        <td id=\"T_cedf97cc_af01_11ea_a59e_b4b676e4d41drow4_col0\" class=\"data row4 col0\" >iotsecurity</td>\n",
       "                        <td id=\"T_cedf97cc_af01_11ea_a59e_b4b676e4d41drow4_col1\" class=\"data row4 col1\" >1511</td>\n",
       "            </tr>\n",
       "            <tr>\n",
       "                        <th id=\"T_cedf97cc_af01_11ea_a59e_b4b676e4d41dlevel0_row5\" class=\"row_heading level0 row5\" >5</th>\n",
       "                        <td id=\"T_cedf97cc_af01_11ea_a59e_b4b676e4d41drow5_col0\" class=\"data row5 col0\" >data</td>\n",
       "                        <td id=\"T_cedf97cc_af01_11ea_a59e_b4b676e4d41drow5_col1\" class=\"data row5 col1\" >1343</td>\n",
       "            </tr>\n",
       "            <tr>\n",
       "                        <th id=\"T_cedf97cc_af01_11ea_a59e_b4b676e4d41dlevel0_row6\" class=\"row_heading level0 row6\" >6</th>\n",
       "                        <td id=\"T_cedf97cc_af01_11ea_a59e_b4b676e4d41drow6_col0\" class=\"data row6 col0\" >internetofthings</td>\n",
       "                        <td id=\"T_cedf97cc_af01_11ea_a59e_b4b676e4d41drow6_col1\" class=\"data row6 col1\" >1290</td>\n",
       "            </tr>\n",
       "            <tr>\n",
       "                        <th id=\"T_cedf97cc_af01_11ea_a59e_b4b676e4d41dlevel0_row7\" class=\"row_heading level0 row7\" >7</th>\n",
       "                        <td id=\"T_cedf97cc_af01_11ea_a59e_b4b676e4d41drow7_col0\" class=\"data row7 col0\" >privacy</td>\n",
       "                        <td id=\"T_cedf97cc_af01_11ea_a59e_b4b676e4d41drow7_col1\" class=\"data row7 col1\" >1217</td>\n",
       "            </tr>\n",
       "            <tr>\n",
       "                        <th id=\"T_cedf97cc_af01_11ea_a59e_b4b676e4d41dlevel0_row8\" class=\"row_heading level0 row8\" >8</th>\n",
       "                        <td id=\"T_cedf97cc_af01_11ea_a59e_b4b676e4d41drow8_col0\" class=\"data row8 col0\" >via</td>\n",
       "                        <td id=\"T_cedf97cc_af01_11ea_a59e_b4b676e4d41drow8_col1\" class=\"data row8 col1\" >1169</td>\n",
       "            </tr>\n",
       "            <tr>\n",
       "                        <th id=\"T_cedf97cc_af01_11ea_a59e_b4b676e4d41dlevel0_row9\" class=\"row_heading level0 row9\" >9</th>\n",
       "                        <td id=\"T_cedf97cc_af01_11ea_a59e_b4b676e4d41drow9_col0\" class=\"data row9 col0\" >ai</td>\n",
       "                        <td id=\"T_cedf97cc_af01_11ea_a59e_b4b676e4d41drow9_col1\" class=\"data row9 col1\" >1156</td>\n",
       "            </tr>\n",
       "            <tr>\n",
       "                        <th id=\"T_cedf97cc_af01_11ea_a59e_b4b676e4d41dlevel0_row10\" class=\"row_heading level0 row10\" >10</th>\n",
       "                        <td id=\"T_cedf97cc_af01_11ea_a59e_b4b676e4d41drow10_col0\" class=\"data row10 col0\" >technology</td>\n",
       "                        <td id=\"T_cedf97cc_af01_11ea_a59e_b4b676e4d41drow10_col1\" class=\"data row10 col1\" >1059</td>\n",
       "            </tr>\n",
       "            <tr>\n",
       "                        <th id=\"T_cedf97cc_af01_11ea_a59e_b4b676e4d41dlevel0_row11\" class=\"row_heading level0 row11\" >11</th>\n",
       "                        <td id=\"T_cedf97cc_af01_11ea_a59e_b4b676e4d41drow11_col0\" class=\"data row11 col0\" >internet</td>\n",
       "                        <td id=\"T_cedf97cc_af01_11ea_a59e_b4b676e4d41drow11_col1\" class=\"data row11 col1\" >986</td>\n",
       "            </tr>\n",
       "            <tr>\n",
       "                        <th id=\"T_cedf97cc_af01_11ea_a59e_b4b676e4d41dlevel0_row12\" class=\"row_heading level0 row12\" >12</th>\n",
       "                        <td id=\"T_cedf97cc_af01_11ea_a59e_b4b676e4d41drow12_col0\" class=\"data row12 col0\" >infosec</td>\n",
       "                        <td id=\"T_cedf97cc_af01_11ea_a59e_b4b676e4d41drow12_col1\" class=\"data row12 col1\" >944</td>\n",
       "            </tr>\n",
       "            <tr>\n",
       "                        <th id=\"T_cedf97cc_af01_11ea_a59e_b4b676e4d41dlevel0_row13\" class=\"row_heading level0 row13\" >13</th>\n",
       "                        <td id=\"T_cedf97cc_af01_11ea_a59e_b4b676e4d41drow13_col0\" class=\"data row13 col0\" >cloud</td>\n",
       "                        <td id=\"T_cedf97cc_af01_11ea_a59e_b4b676e4d41drow13_col1\" class=\"data row13 col1\" >919</td>\n",
       "            </tr>\n",
       "            <tr>\n",
       "                        <th id=\"T_cedf97cc_af01_11ea_a59e_b4b676e4d41dlevel0_row14\" class=\"row_heading level0 row14\" >14</th>\n",
       "                        <td id=\"T_cedf97cc_af01_11ea_a59e_b4b676e4d41drow14_col0\" class=\"data row14 col0\" >amp</td>\n",
       "                        <td id=\"T_cedf97cc_af01_11ea_a59e_b4b676e4d41drow14_col1\" class=\"data row14 col1\" >829</td>\n",
       "            </tr>\n",
       "            <tr>\n",
       "                        <th id=\"T_cedf97cc_af01_11ea_a59e_b4b676e4d41dlevel0_row15\" class=\"row_heading level0 row15\" >15</th>\n",
       "                        <td id=\"T_cedf97cc_af01_11ea_a59e_b4b676e4d41drow15_col0\" class=\"data row15 col0\" >tech</td>\n",
       "                        <td id=\"T_cedf97cc_af01_11ea_a59e_b4b676e4d41drow15_col1\" class=\"data row15 col1\" >746</td>\n",
       "            </tr>\n",
       "            <tr>\n",
       "                        <th id=\"T_cedf97cc_af01_11ea_a59e_b4b676e4d41dlevel0_row16\" class=\"row_heading level0 row16\" >16</th>\n",
       "                        <td id=\"T_cedf97cc_af01_11ea_a59e_b4b676e4d41drow16_col0\" class=\"data row16 col0\" >things</td>\n",
       "                        <td id=\"T_cedf97cc_af01_11ea_a59e_b4b676e4d41drow16_col1\" class=\"data row16 col1\" >734</td>\n",
       "            </tr>\n",
       "            <tr>\n",
       "                        <th id=\"T_cedf97cc_af01_11ea_a59e_b4b676e4d41dlevel0_row17\" class=\"row_heading level0 row17\" >17</th>\n",
       "                        <td id=\"T_cedf97cc_af01_11ea_a59e_b4b676e4d41drow17_col0\" class=\"data row17 col0\" >new</td>\n",
       "                        <td id=\"T_cedf97cc_af01_11ea_a59e_b4b676e4d41drow17_col1\" class=\"data row17 col1\" >730</td>\n",
       "            </tr>\n",
       "            <tr>\n",
       "                        <th id=\"T_cedf97cc_af01_11ea_a59e_b4b676e4d41dlevel0_row18\" class=\"row_heading level0 row18\" >18</th>\n",
       "                        <td id=\"T_cedf97cc_af01_11ea_a59e_b4b676e4d41drow18_col0\" class=\"data row18 col0\" >market</td>\n",
       "                        <td id=\"T_cedf97cc_af01_11ea_a59e_b4b676e4d41drow18_col1\" class=\"data row18 col1\" >692</td>\n",
       "            </tr>\n",
       "            <tr>\n",
       "                        <th id=\"T_cedf97cc_af01_11ea_a59e_b4b676e4d41dlevel0_row19\" class=\"row_heading level0 row19\" >19</th>\n",
       "                        <td id=\"T_cedf97cc_af01_11ea_a59e_b4b676e4d41drow19_col0\" class=\"data row19 col0\" >cyber</td>\n",
       "                        <td id=\"T_cedf97cc_af01_11ea_a59e_b4b676e4d41drow19_col1\" class=\"data row19 col1\" >670</td>\n",
       "            </tr>\n",
       "            <tr>\n",
       "                        <th id=\"T_cedf97cc_af01_11ea_a59e_b4b676e4d41dlevel0_row20\" class=\"row_heading level0 row20\" >20</th>\n",
       "                        <td id=\"T_cedf97cc_af01_11ea_a59e_b4b676e4d41drow20_col0\" class=\"data row20 col0\" >bigdata</td>\n",
       "                        <td id=\"T_cedf97cc_af01_11ea_a59e_b4b676e4d41drow20_col1\" class=\"data row20 col1\" >666</td>\n",
       "            </tr>\n",
       "            <tr>\n",
       "                        <th id=\"T_cedf97cc_af01_11ea_a59e_b4b676e4d41dlevel0_row21\" class=\"row_heading level0 row21\" >21</th>\n",
       "                        <td id=\"T_cedf97cc_af01_11ea_a59e_b4b676e4d41drow21_col0\" class=\"data row21 col0\" >smarthome</td>\n",
       "                        <td id=\"T_cedf97cc_af01_11ea_a59e_b4b676e4d41drow21_col1\" class=\"data row21 col1\" >609</td>\n",
       "            </tr>\n",
       "            <tr>\n",
       "                        <th id=\"T_cedf97cc_af01_11ea_a59e_b4b676e4d41dlevel0_row22\" class=\"row_heading level0 row22\" >22</th>\n",
       "                        <td id=\"T_cedf97cc_af01_11ea_a59e_b4b676e4d41drow22_col0\" class=\"data row22 col0\" >microsoft</td>\n",
       "                        <td id=\"T_cedf97cc_af01_11ea_a59e_b4b676e4d41drow22_col1\" class=\"data row22 col1\" >583</td>\n",
       "            </tr>\n",
       "            <tr>\n",
       "                        <th id=\"T_cedf97cc_af01_11ea_a59e_b4b676e4d41dlevel0_row23\" class=\"row_heading level0 row23\" >23</th>\n",
       "                        <td id=\"T_cedf97cc_af01_11ea_a59e_b4b676e4d41drow23_col0\" class=\"data row23 col0\" >blockchain</td>\n",
       "                        <td id=\"T_cedf97cc_af01_11ea_a59e_b4b676e4d41drow23_col1\" class=\"data row23 col1\" >578</td>\n",
       "            </tr>\n",
       "            <tr>\n",
       "                        <th id=\"T_cedf97cc_af01_11ea_a59e_b4b676e4d41dlevel0_row24\" class=\"row_heading level0 row24\" >24</th>\n",
       "                        <td id=\"T_cedf97cc_af01_11ea_a59e_b4b676e4d41drow24_col0\" class=\"data row24 col0\" >smart</td>\n",
       "                        <td id=\"T_cedf97cc_af01_11ea_a59e_b4b676e4d41drow24_col1\" class=\"data row24 col1\" >560</td>\n",
       "            </tr>\n",
       "    </tbody></table>"
      ],
      "text/plain": [
       "<pandas.io.formats.style.Styler at 0x1f6b127e4e0>"
      ]
     },
     "execution_count": 29,
     "metadata": {},
     "output_type": "execute_result"
    }
   ],
   "source": [
    "tw_data['temp_text'] = tw_data['text'].apply(lambda x:str(x).split())\n",
    "tw_data['temp_text'] = tw_data['temp_text'].apply(lambda x:remove_stopword(x))\n",
    "\n",
    "top = Counter([item for sublist in tw_data['temp_text'] for item in sublist])\n",
    "temp = pd.DataFrame(top.most_common(25))\n",
    "temp.columns = ['Common_words','count']\n",
    "temp.style.background_gradient(cmap='Blues')"
   ]
  },
  {
   "cell_type": "code",
   "execution_count": null,
   "metadata": {},
   "outputs": [],
   "source": []
  },
  {
   "cell_type": "code",
   "execution_count": 31,
   "metadata": {
    "scrolled": true
   },
   "outputs": [
    {
     "data": {
      "text/html": [
       "<div>\n",
       "<style scoped>\n",
       "    .dataframe tbody tr th:only-of-type {\n",
       "        vertical-align: middle;\n",
       "    }\n",
       "\n",
       "    .dataframe tbody tr th {\n",
       "        vertical-align: top;\n",
       "    }\n",
       "\n",
       "    .dataframe thead th {\n",
       "        text-align: right;\n",
       "    }\n",
       "</style>\n",
       "<table border=\"1\" class=\"dataframe\">\n",
       "  <thead>\n",
       "    <tr style=\"text-align: right;\">\n",
       "      <th></th>\n",
       "      <th>text</th>\n",
       "    </tr>\n",
       "  </thead>\n",
       "  <tbody>\n",
       "    <tr>\n",
       "      <td>0</td>\n",
       "      <td>research study forecasts revenue from the glob...</td>\n",
       "    </tr>\n",
       "    <tr>\n",
       "      <td>1</td>\n",
       "      <td>download sample pdf to get more information ab...</td>\n",
       "    </tr>\n",
       "    <tr>\n",
       "      <td>2</td>\n",
       "      <td>government initiatives in smart cities projects</td>\n",
       "    </tr>\n",
       "    <tr>\n",
       "      <td>3</td>\n",
       "      <td>here is a list of some root cause for vulnerab...</td>\n",
       "    </tr>\n",
       "    <tr>\n",
       "      <td>4</td>\n",
       "      <td>according to new idc spending guide the worldw...</td>\n",
       "    </tr>\n",
       "  </tbody>\n",
       "</table>\n",
       "</div>"
      ],
      "text/plain": [
       "                                                text\n",
       "0  research study forecasts revenue from the glob...\n",
       "1  download sample pdf to get more information ab...\n",
       "2    government initiatives in smart cities projects\n",
       "3  here is a list of some root cause for vulnerab...\n",
       "4  according to new idc spending guide the worldw..."
      ]
     },
     "execution_count": 31,
     "metadata": {},
     "output_type": "execute_result"
    }
   ],
   "source": [
    "#2. Quora 데이터\n",
    "\n",
    "q_data = pd.read_csv('quora_data.csv', encoding = 'latin')\n",
    "q_data.rename(columns = {'comments' : 'text'}, inplace = True)\n",
    "\n",
    "q_data['text'] = q_data['text'].str.replace('<br />',' ')\n",
    "q_data['text'] = q_data['text'].apply(lambda x:clean_text(x))\n",
    "\n",
    "q_data.head()"
   ]
  },
  {
   "cell_type": "code",
   "execution_count": 32,
   "metadata": {},
   "outputs": [
    {
     "data": {
      "text/html": [
       "<style  type=\"text/css\" >\n",
       "    #T_021b3b76_af02_11ea_8ab4_b4b676e4d41drow0_col1 {\n",
       "            background-color:  #08306b;\n",
       "            color:  #f1f1f1;\n",
       "        }    #T_021b3b76_af02_11ea_8ab4_b4b676e4d41drow1_col1 {\n",
       "            background-color:  #2272b6;\n",
       "            color:  #f1f1f1;\n",
       "        }    #T_021b3b76_af02_11ea_8ab4_b4b676e4d41drow2_col1 {\n",
       "            background-color:  #c8dcf0;\n",
       "            color:  #000000;\n",
       "        }    #T_021b3b76_af02_11ea_8ab4_b4b676e4d41drow3_col1 {\n",
       "            background-color:  #dbe9f6;\n",
       "            color:  #000000;\n",
       "        }    #T_021b3b76_af02_11ea_8ab4_b4b676e4d41drow4_col1 {\n",
       "            background-color:  #e6f0f9;\n",
       "            color:  #000000;\n",
       "        }    #T_021b3b76_af02_11ea_8ab4_b4b676e4d41drow5_col1 {\n",
       "            background-color:  #e7f1fa;\n",
       "            color:  #000000;\n",
       "        }    #T_021b3b76_af02_11ea_8ab4_b4b676e4d41drow6_col1 {\n",
       "            background-color:  #eaf2fb;\n",
       "            color:  #000000;\n",
       "        }    #T_021b3b76_af02_11ea_8ab4_b4b676e4d41drow7_col1 {\n",
       "            background-color:  #eff6fc;\n",
       "            color:  #000000;\n",
       "        }    #T_021b3b76_af02_11ea_8ab4_b4b676e4d41drow8_col1 {\n",
       "            background-color:  #eff6fc;\n",
       "            color:  #000000;\n",
       "        }    #T_021b3b76_af02_11ea_8ab4_b4b676e4d41drow9_col1 {\n",
       "            background-color:  #eff6fc;\n",
       "            color:  #000000;\n",
       "        }    #T_021b3b76_af02_11ea_8ab4_b4b676e4d41drow10_col1 {\n",
       "            background-color:  #f0f6fd;\n",
       "            color:  #000000;\n",
       "        }    #T_021b3b76_af02_11ea_8ab4_b4b676e4d41drow11_col1 {\n",
       "            background-color:  #f1f7fd;\n",
       "            color:  #000000;\n",
       "        }    #T_021b3b76_af02_11ea_8ab4_b4b676e4d41drow12_col1 {\n",
       "            background-color:  #f5f9fe;\n",
       "            color:  #000000;\n",
       "        }    #T_021b3b76_af02_11ea_8ab4_b4b676e4d41drow13_col1 {\n",
       "            background-color:  #f5f9fe;\n",
       "            color:  #000000;\n",
       "        }    #T_021b3b76_af02_11ea_8ab4_b4b676e4d41drow14_col1 {\n",
       "            background-color:  #f5f9fe;\n",
       "            color:  #000000;\n",
       "        }    #T_021b3b76_af02_11ea_8ab4_b4b676e4d41drow15_col1 {\n",
       "            background-color:  #f6faff;\n",
       "            color:  #000000;\n",
       "        }    #T_021b3b76_af02_11ea_8ab4_b4b676e4d41drow16_col1 {\n",
       "            background-color:  #f6faff;\n",
       "            color:  #000000;\n",
       "        }    #T_021b3b76_af02_11ea_8ab4_b4b676e4d41drow17_col1 {\n",
       "            background-color:  #f6faff;\n",
       "            color:  #000000;\n",
       "        }    #T_021b3b76_af02_11ea_8ab4_b4b676e4d41drow18_col1 {\n",
       "            background-color:  #f7fbff;\n",
       "            color:  #000000;\n",
       "        }    #T_021b3b76_af02_11ea_8ab4_b4b676e4d41drow19_col1 {\n",
       "            background-color:  #f7fbff;\n",
       "            color:  #000000;\n",
       "        }</style><table id=\"T_021b3b76_af02_11ea_8ab4_b4b676e4d41d\" ><thead>    <tr>        <th class=\"blank level0\" ></th>        <th class=\"col_heading level0 col0\" >Common_words</th>        <th class=\"col_heading level0 col1\" >count</th>    </tr></thead><tbody>\n",
       "                <tr>\n",
       "                        <th id=\"T_021b3b76_af02_11ea_8ab4_b4b676e4d41dlevel0_row0\" class=\"row_heading level0 row0\" >0</th>\n",
       "                        <td id=\"T_021b3b76_af02_11ea_8ab4_b4b676e4d41drow0_col0\" class=\"data row0 col0\" >iot</td>\n",
       "                        <td id=\"T_021b3b76_af02_11ea_8ab4_b4b676e4d41drow0_col1\" class=\"data row0 col1\" >254</td>\n",
       "            </tr>\n",
       "            <tr>\n",
       "                        <th id=\"T_021b3b76_af02_11ea_8ab4_b4b676e4d41dlevel0_row1\" class=\"row_heading level0 row1\" >1</th>\n",
       "                        <td id=\"T_021b3b76_af02_11ea_8ab4_b4b676e4d41drow1_col0\" class=\"data row1 col0\" >security</td>\n",
       "                        <td id=\"T_021b3b76_af02_11ea_8ab4_b4b676e4d41drow1_col1\" class=\"data row1 col1\" >193</td>\n",
       "            </tr>\n",
       "            <tr>\n",
       "                        <th id=\"T_021b3b76_af02_11ea_8ab4_b4b676e4d41dlevel0_row2\" class=\"row_heading level0 row2\" >2</th>\n",
       "                        <td id=\"T_021b3b76_af02_11ea_8ab4_b4b676e4d41drow2_col0\" class=\"data row2 col0\" >devices</td>\n",
       "                        <td id=\"T_021b3b76_af02_11ea_8ab4_b4b676e4d41drow2_col1\" class=\"data row2 col1\" >74</td>\n",
       "            </tr>\n",
       "            <tr>\n",
       "                        <th id=\"T_021b3b76_af02_11ea_8ab4_b4b676e4d41dlevel0_row3\" class=\"row_heading level0 row3\" >3</th>\n",
       "                        <td id=\"T_021b3b76_af02_11ea_8ab4_b4b676e4d41drow3_col0\" class=\"data row3 col0\" >internet</td>\n",
       "                        <td id=\"T_021b3b76_af02_11ea_8ab4_b4b676e4d41drow3_col1\" class=\"data row3 col1\" >51</td>\n",
       "            </tr>\n",
       "            <tr>\n",
       "                        <th id=\"T_021b3b76_af02_11ea_8ab4_b4b676e4d41dlevel0_row4\" class=\"row_heading level0 row4\" >4</th>\n",
       "                        <td id=\"T_021b3b76_af02_11ea_8ab4_b4b676e4d41drow4_col0\" class=\"data row4 col0\" >network</td>\n",
       "                        <td id=\"T_021b3b76_af02_11ea_8ab4_b4b676e4d41drow4_col1\" class=\"data row4 col1\" >38</td>\n",
       "            </tr>\n",
       "            <tr>\n",
       "                        <th id=\"T_021b3b76_af02_11ea_8ab4_b4b676e4d41dlevel0_row5\" class=\"row_heading level0 row5\" >5</th>\n",
       "                        <td id=\"T_021b3b76_af02_11ea_8ab4_b4b676e4d41drow5_col0\" class=\"data row5 col0\" >things</td>\n",
       "                        <td id=\"T_021b3b76_af02_11ea_8ab4_b4b676e4d41drow5_col1\" class=\"data row5 col1\" >36</td>\n",
       "            </tr>\n",
       "            <tr>\n",
       "                        <th id=\"T_021b3b76_af02_11ea_8ab4_b4b676e4d41dlevel0_row6\" class=\"row_heading level0 row6\" >6</th>\n",
       "                        <td id=\"T_021b3b76_af02_11ea_8ab4_b4b676e4d41drow6_col0\" class=\"data row6 col0\" >market</td>\n",
       "                        <td id=\"T_021b3b76_af02_11ea_8ab4_b4b676e4d41drow6_col1\" class=\"data row6 col1\" >33</td>\n",
       "            </tr>\n",
       "            <tr>\n",
       "                        <th id=\"T_021b3b76_af02_11ea_8ab4_b4b676e4d41dlevel0_row7\" class=\"row_heading level0 row7\" >7</th>\n",
       "                        <td id=\"T_021b3b76_af02_11ea_8ab4_b4b676e4d41drow7_col0\" class=\"data row7 col0\" >new</td>\n",
       "                        <td id=\"T_021b3b76_af02_11ea_8ab4_b4b676e4d41drow7_col1\" class=\"data row7 col1\" >27</td>\n",
       "            </tr>\n",
       "            <tr>\n",
       "                        <th id=\"T_021b3b76_af02_11ea_8ab4_b4b676e4d41dlevel0_row8\" class=\"row_heading level0 row8\" >8</th>\n",
       "                        <td id=\"T_021b3b76_af02_11ea_8ab4_b4b676e4d41drow8_col0\" class=\"data row8 col0\" >device</td>\n",
       "                        <td id=\"T_021b3b76_af02_11ea_8ab4_b4b676e4d41drow8_col1\" class=\"data row8 col1\" >27</td>\n",
       "            </tr>\n",
       "            <tr>\n",
       "                        <th id=\"T_021b3b76_af02_11ea_8ab4_b4b676e4d41dlevel0_row9\" class=\"row_heading level0 row9\" >9</th>\n",
       "                        <td id=\"T_021b3b76_af02_11ea_8ab4_b4b676e4d41drow9_col0\" class=\"data row9 col0\" >business</td>\n",
       "                        <td id=\"T_021b3b76_af02_11ea_8ab4_b4b676e4d41drow9_col1\" class=\"data row9 col1\" >27</td>\n",
       "            </tr>\n",
       "            <tr>\n",
       "                        <th id=\"T_021b3b76_af02_11ea_8ab4_b4b676e4d41dlevel0_row10\" class=\"row_heading level0 row10\" >10</th>\n",
       "                        <td id=\"T_021b3b76_af02_11ea_8ab4_b4b676e4d41drow10_col0\" class=\"data row10 col0\" >data</td>\n",
       "                        <td id=\"T_021b3b76_af02_11ea_8ab4_b4b676e4d41drow10_col1\" class=\"data row10 col1\" >26</td>\n",
       "            </tr>\n",
       "            <tr>\n",
       "                        <th id=\"T_021b3b76_af02_11ea_8ab4_b4b676e4d41dlevel0_row11\" class=\"row_heading level0 row11\" >11</th>\n",
       "                        <td id=\"T_021b3b76_af02_11ea_8ab4_b4b676e4d41drow11_col0\" class=\"data row11 col0\" >smart</td>\n",
       "                        <td id=\"T_021b3b76_af02_11ea_8ab4_b4b676e4d41drow11_col1\" class=\"data row11 col1\" >25</td>\n",
       "            </tr>\n",
       "            <tr>\n",
       "                        <th id=\"T_021b3b76_af02_11ea_8ab4_b4b676e4d41dlevel0_row12\" class=\"row_heading level0 row12\" >12</th>\n",
       "                        <td id=\"T_021b3b76_af02_11ea_8ab4_b4b676e4d41drow12_col0\" class=\"data row12 col0\" >free</td>\n",
       "                        <td id=\"T_021b3b76_af02_11ea_8ab4_b4b676e4d41drow12_col1\" class=\"data row12 col1\" >20</td>\n",
       "            </tr>\n",
       "            <tr>\n",
       "                        <th id=\"T_021b3b76_af02_11ea_8ab4_b4b676e4d41dlevel0_row13\" class=\"row_heading level0 row13\" >13</th>\n",
       "                        <td id=\"T_021b3b76_af02_11ea_8ab4_b4b676e4d41drow13_col0\" class=\"data row13 col0\" >course</td>\n",
       "                        <td id=\"T_021b3b76_af02_11ea_8ab4_b4b676e4d41drow13_col1\" class=\"data row13 col1\" >20</td>\n",
       "            </tr>\n",
       "            <tr>\n",
       "                        <th id=\"T_021b3b76_af02_11ea_8ab4_b4b676e4d41dlevel0_row14\" class=\"row_heading level0 row14\" >14</th>\n",
       "                        <td id=\"T_021b3b76_af02_11ea_8ab4_b4b676e4d41drow14_col0\" class=\"data row14 col0\" >use</td>\n",
       "                        <td id=\"T_021b3b76_af02_11ea_8ab4_b4b676e4d41drow14_col1\" class=\"data row14 col1\" >20</td>\n",
       "            </tr>\n",
       "            <tr>\n",
       "                        <th id=\"T_021b3b76_af02_11ea_8ab4_b4b676e4d41dlevel0_row15\" class=\"row_heading level0 row15\" >15</th>\n",
       "                        <td id=\"T_021b3b76_af02_11ea_8ab4_b4b676e4d41drow15_col0\" class=\"data row15 col0\" >research</td>\n",
       "                        <td id=\"T_021b3b76_af02_11ea_8ab4_b4b676e4d41drow15_col1\" class=\"data row15 col1\" >18</td>\n",
       "            </tr>\n",
       "            <tr>\n",
       "                        <th id=\"T_021b3b76_af02_11ea_8ab4_b4b676e4d41dlevel0_row16\" class=\"row_heading level0 row16\" >16</th>\n",
       "                        <td id=\"T_021b3b76_af02_11ea_8ab4_b4b676e4d41drow16_col0\" class=\"data row16 col0\" >would</td>\n",
       "                        <td id=\"T_021b3b76_af02_11ea_8ab4_b4b676e4d41drow16_col1\" class=\"data row16 col1\" >18</td>\n",
       "            </tr>\n",
       "            <tr>\n",
       "                        <th id=\"T_021b3b76_af02_11ea_8ab4_b4b676e4d41dlevel0_row17\" class=\"row_heading level0 row17\" >17</th>\n",
       "                        <td id=\"T_021b3b76_af02_11ea_8ab4_b4b676e4d41drow17_col0\" class=\"data row17 col0\" >technology</td>\n",
       "                        <td id=\"T_021b3b76_af02_11ea_8ab4_b4b676e4d41drow17_col1\" class=\"data row17 col1\" >18</td>\n",
       "            </tr>\n",
       "            <tr>\n",
       "                        <th id=\"T_021b3b76_af02_11ea_8ab4_b4b676e4d41dlevel0_row18\" class=\"row_heading level0 row18\" >18</th>\n",
       "                        <td id=\"T_021b3b76_af02_11ea_8ab4_b4b676e4d41drow18_col0\" class=\"data row18 col0\" >like</td>\n",
       "                        <td id=\"T_021b3b76_af02_11ea_8ab4_b4b676e4d41drow18_col1\" class=\"data row18 col1\" >17</td>\n",
       "            </tr>\n",
       "            <tr>\n",
       "                        <th id=\"T_021b3b76_af02_11ea_8ab4_b4b676e4d41dlevel0_row19\" class=\"row_heading level0 row19\" >19</th>\n",
       "                        <td id=\"T_021b3b76_af02_11ea_8ab4_b4b676e4d41drow19_col0\" class=\"data row19 col0\" >one</td>\n",
       "                        <td id=\"T_021b3b76_af02_11ea_8ab4_b4b676e4d41drow19_col1\" class=\"data row19 col1\" >17</td>\n",
       "            </tr>\n",
       "    </tbody></table>"
      ],
      "text/plain": [
       "<pandas.io.formats.style.Styler at 0x1f6b247b128>"
      ]
     },
     "execution_count": 32,
     "metadata": {},
     "output_type": "execute_result"
    }
   ],
   "source": [
    "q_data['temp_text'] = q_data['text'].apply(lambda x:str(x).split())\n",
    "q_data['temp_text'] = q_data['temp_text'].apply(lambda x:remove_stopword(x))\n",
    "\n",
    "top = Counter([item for sublist in q_data['temp_text'] for item in sublist])\n",
    "temp = pd.DataFrame(top.most_common(20))\n",
    "temp.columns = ['Common_words','count']\n",
    "temp.style.background_gradient(cmap='Blues')"
   ]
  }
 ],
 "metadata": {
  "kernelspec": {
   "display_name": "Python 3",
   "language": "python",
   "name": "python3"
  },
  "language_info": {
   "codemirror_mode": {
    "name": "ipython",
    "version": 3
   },
   "file_extension": ".py",
   "mimetype": "text/x-python",
   "name": "python",
   "nbconvert_exporter": "python",
   "pygments_lexer": "ipython3",
   "version": "3.6.9"
  }
 },
 "nbformat": 4,
 "nbformat_minor": 4
}
